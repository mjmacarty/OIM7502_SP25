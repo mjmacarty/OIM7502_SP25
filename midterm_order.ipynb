{
 "cells": [
  {
   "cell_type": "code",
   "execution_count": 1,
   "id": "d5456def-7038-45ea-848f-0b2d1fb35882",
   "metadata": {},
   "outputs": [],
   "source": [
    "import pandas as pd"
   ]
  },
  {
   "cell_type": "code",
   "execution_count": 70,
   "id": "116a0a00-2490-40dd-aef0-9f5e465c4712",
   "metadata": {},
   "outputs": [],
   "source": [
    "names = pd.read_csv('names.csv')"
   ]
  },
  {
   "cell_type": "code",
   "execution_count": 71,
   "id": "13596430-9ae6-4b3d-8ca0-1222584b74fa",
   "metadata": {},
   "outputs": [],
   "source": [
    "names = names['Student']"
   ]
  },
  {
   "cell_type": "code",
   "execution_count": 72,
   "id": "bc8644c1-db41-495b-b7d0-9bcf8c81af7f",
   "metadata": {},
   "outputs": [],
   "source": [
    "names = names.iloc[2:16]"
   ]
  },
  {
   "cell_type": "code",
   "execution_count": 73,
   "id": "a600cfb3-8827-4e18-af60-f127494b7a5f",
   "metadata": {},
   "outputs": [
    {
     "data": {
      "text/plain": [
       "2                    Alderete Romo, Karen\n",
       "3     Amaral Fernandes Maldonado, Manuela\n",
       "4                           Dallvo, Genti\n",
       "5                      DePerro, Christina\n",
       "6                          Fichtner, Alex\n",
       "7                            Gage, Parker\n",
       "8                    Gomez Lenero, Andres\n",
       "9                      Gunasekaran, Divya\n",
       "10                           Kumar, Mehek\n",
       "11                        O'Reilly, Moira\n",
       "12                          Rock, Matthew\n",
       "13                         Santos, Tanner\n",
       "14                              Tam, Luke\n",
       "15                            Wolff, Kyle\n",
       "Name: Student, dtype: object"
      ]
     },
     "execution_count": 73,
     "metadata": {},
     "output_type": "execute_result"
    }
   ],
   "source": [
    "names"
   ]
  },
  {
   "cell_type": "code",
   "execution_count": 75,
   "id": "b497c3c6-c7e2-4a5c-9d01-37e77788d4d9",
   "metadata": {},
   "outputs": [],
   "source": [
    "away = names[(names =='Santos, Tanner') | (names =='Wolff, Kyle')]\n"
   ]
  },
  {
   "cell_type": "code",
   "execution_count": 76,
   "id": "7dc754b2-ba6d-4b8b-a60d-8e5e516fcad7",
   "metadata": {},
   "outputs": [],
   "source": [
    "names = names[(names != 'Wolff, Kyle')]"
   ]
  },
  {
   "cell_type": "code",
   "execution_count": 77,
   "id": "5d3fd6ea-2d35-4bc1-8615-edaa9f5fc668",
   "metadata": {},
   "outputs": [],
   "source": [
    "names = names[(names !='Santos, Tanner')]"
   ]
  },
  {
   "cell_type": "code",
   "execution_count": 78,
   "id": "62aa0d5c-dadb-47b8-9c57-905990661543",
   "metadata": {},
   "outputs": [
    {
     "data": {
      "text/plain": [
       "2                    Alderete Romo, Karen\n",
       "3     Amaral Fernandes Maldonado, Manuela\n",
       "4                           Dallvo, Genti\n",
       "5                      DePerro, Christina\n",
       "6                          Fichtner, Alex\n",
       "7                            Gage, Parker\n",
       "8                    Gomez Lenero, Andres\n",
       "9                      Gunasekaran, Divya\n",
       "10                           Kumar, Mehek\n",
       "11                        O'Reilly, Moira\n",
       "12                          Rock, Matthew\n",
       "14                              Tam, Luke\n",
       "Name: Student, dtype: object"
      ]
     },
     "execution_count": 78,
     "metadata": {},
     "output_type": "execute_result"
    }
   ],
   "source": [
    "names"
   ]
  },
  {
   "cell_type": "code",
   "execution_count": 83,
   "id": "a75aeb20-817b-4be7-9f69-9fa6db757552",
   "metadata": {},
   "outputs": [
    {
     "data": {
      "text/plain": [
       "11                        O'Reilly, Moira\n",
       "10                           Kumar, Mehek\n",
       "6                          Fichtner, Alex\n",
       "8                    Gomez Lenero, Andres\n",
       "3     Amaral Fernandes Maldonado, Manuela\n",
       "12                          Rock, Matthew\n",
       "2                    Alderete Romo, Karen\n",
       "14                              Tam, Luke\n",
       "5                      DePerro, Christina\n",
       "7                            Gage, Parker\n",
       "9                      Gunasekaran, Divya\n",
       "4                           Dallvo, Genti\n",
       "Name: Student, dtype: object"
      ]
     },
     "execution_count": 83,
     "metadata": {},
     "output_type": "execute_result"
    }
   ],
   "source": [
    "names = names.sample(12)\n",
    "names"
   ]
  },
  {
   "cell_type": "code",
   "execution_count": 85,
   "id": "8cd97468-2bde-460a-be51-cddee9599ff9",
   "metadata": {},
   "outputs": [],
   "source": [
    "with pd.ExcelWriter('midterm.xlsx') as output:\n",
    "    names.to_excel(output, sheet_name = 'order')\n",
    "    away.to_excel(output, sheet_name = 'away')"
   ]
  },
  {
   "cell_type": "code",
   "execution_count": null,
   "id": "db59de17-8aa4-4ed6-8356-92c09534e18e",
   "metadata": {},
   "outputs": [],
   "source": []
  }
 ],
 "metadata": {
  "kernelspec": {
   "display_name": "Python 3 (ipykernel)",
   "language": "python",
   "name": "python3"
  },
  "language_info": {
   "codemirror_mode": {
    "name": "ipython",
    "version": 3
   },
   "file_extension": ".py",
   "mimetype": "text/x-python",
   "name": "python",
   "nbconvert_exporter": "python",
   "pygments_lexer": "ipython3",
   "version": "3.12.7"
  }
 },
 "nbformat": 4,
 "nbformat_minor": 5
}
