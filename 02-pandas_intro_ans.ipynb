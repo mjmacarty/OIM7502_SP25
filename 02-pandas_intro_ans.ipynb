{
 "cells": [
  {
   "cell_type": "markdown",
   "id": "e8e154a9",
   "metadata": {},
   "source": [
    "# Introduction to pandas\n",
    "* The premier data science library\n",
    "* The name pandas derives from panel data \n",
    "* Has two main objects : DataFrame, Series\n",
    "* Is a wrapper around, among other libraries, NumPy and matplotlib\n",
    "* Series is a vector of data with an index\n",
    "* DataFrame is a collection of Series with a single index (columns are also an index)\n",
    "* Was developed by a quant working for a hedge fund, long since semi-retired by the age of about 27\n"
   ]
  },
  {
   "cell_type": "code",
   "execution_count": 1,
   "id": "d0586696",
   "metadata": {},
   "outputs": [],
   "source": [
    "import matplotlib as plt\n",
    "import numpy as np\n",
    "import numpy.random as npr\n",
    "import pandas as pd"
   ]
  },
  {
   "cell_type": "code",
   "execution_count": 2,
   "id": "85659a67",
   "metadata": {},
   "outputs": [
    {
     "data": {
      "text/plain": [
       "'1.5.3'"
      ]
     },
     "execution_count": 2,
     "metadata": {},
     "output_type": "execute_result"
    }
   ],
   "source": [
    "pd.__version__"
   ]
  },
  {
   "cell_type": "markdown",
   "id": "67835cf6",
   "metadata": {},
   "source": [
    "### 1. make a Series"
   ]
  },
  {
   "cell_type": "code",
   "execution_count": 3,
   "id": "70856078",
   "metadata": {},
   "outputs": [
    {
     "data": {
      "text/plain": [
       "0    0.196113\n",
       "1    0.482779\n",
       "2    0.525816\n",
       "3    0.375909\n",
       "4    0.481302\n",
       "5    0.893311\n",
       "6    0.162922\n",
       "7    0.235728\n",
       "8    0.664432\n",
       "9    0.292527\n",
       "dtype: float64"
      ]
     },
     "execution_count": 3,
     "metadata": {},
     "output_type": "execute_result"
    }
   ],
   "source": [
    "norms = pd.Series(npr.standard_normal(10))\n",
    "norms\n",
    "rands = pd.Series(npr.rand(10))\n",
    "rands"
   ]
  },
  {
   "cell_type": "code",
   "execution_count": 4,
   "id": "ec0da83e",
   "metadata": {},
   "outputs": [
    {
     "data": {
      "text/plain": [
       "0.4286052911181604"
      ]
     },
     "execution_count": 4,
     "metadata": {},
     "output_type": "execute_result"
    }
   ],
   "source": [
    "rands.median()"
   ]
  },
  {
   "cell_type": "code",
   "execution_count": null,
   "id": "cfca51c6",
   "metadata": {},
   "outputs": [],
   "source": []
  },
  {
   "cell_type": "code",
   "execution_count": null,
   "id": "a43d5419",
   "metadata": {},
   "outputs": [],
   "source": []
  },
  {
   "cell_type": "code",
   "execution_count": null,
   "id": "bd9fa612",
   "metadata": {},
   "outputs": [],
   "source": []
  },
  {
   "cell_type": "markdown",
   "id": "d98eb274",
   "metadata": {},
   "source": [
    "### 2. make a DataFrame"
   ]
  },
  {
   "cell_type": "code",
   "execution_count": 47,
   "id": "b3e8dad1",
   "metadata": {},
   "outputs": [
    {
     "data": {
      "text/html": [
       "<div>\n",
       "<style scoped>\n",
       "    .dataframe tbody tr th:only-of-type {\n",
       "        vertical-align: middle;\n",
       "    }\n",
       "\n",
       "    .dataframe tbody tr th {\n",
       "        vertical-align: top;\n",
       "    }\n",
       "\n",
       "    .dataframe thead th {\n",
       "        text-align: right;\n",
       "    }\n",
       "</style>\n",
       "<table border=\"1\" class=\"dataframe\">\n",
       "  <thead>\n",
       "    <tr style=\"text-align: right;\">\n",
       "      <th></th>\n",
       "      <th>0</th>\n",
       "      <th>1</th>\n",
       "      <th>2</th>\n",
       "      <th>3</th>\n",
       "      <th>4</th>\n",
       "      <th>5</th>\n",
       "      <th>6</th>\n",
       "      <th>7</th>\n",
       "      <th>8</th>\n",
       "      <th>9</th>\n",
       "    </tr>\n",
       "  </thead>\n",
       "  <tbody>\n",
       "    <tr>\n",
       "      <th>0</th>\n",
       "      <td>0.752916</td>\n",
       "      <td>0.629547</td>\n",
       "      <td>0.974922</td>\n",
       "      <td>0.679239</td>\n",
       "      <td>0.010365</td>\n",
       "      <td>0.215788</td>\n",
       "      <td>0.750447</td>\n",
       "      <td>0.992142</td>\n",
       "      <td>0.897434</td>\n",
       "      <td>0.093020</td>\n",
       "    </tr>\n",
       "    <tr>\n",
       "      <th>1</th>\n",
       "      <td>-0.246828</td>\n",
       "      <td>-0.354668</td>\n",
       "      <td>-0.136484</td>\n",
       "      <td>0.129539</td>\n",
       "      <td>-0.884134</td>\n",
       "      <td>-0.730948</td>\n",
       "      <td>0.970346</td>\n",
       "      <td>-0.318829</td>\n",
       "      <td>0.383992</td>\n",
       "      <td>-1.390486</td>\n",
       "    </tr>\n",
       "  </tbody>\n",
       "</table>\n",
       "</div>"
      ],
      "text/plain": [
       "          0         1         2         3         4         5         6  \\\n",
       "0  0.752916  0.629547  0.974922  0.679239  0.010365  0.215788  0.750447   \n",
       "1 -0.246828 -0.354668 -0.136484  0.129539 -0.884134 -0.730948  0.970346   \n",
       "\n",
       "          7         8         9  \n",
       "0  0.992142  0.897434  0.093020  \n",
       "1 -0.318829  0.383992 -1.390486  "
      ]
     },
     "execution_count": 47,
     "metadata": {},
     "output_type": "execute_result"
    }
   ],
   "source": [
    "df = pd.DataFrame([rands, norms])\n",
    "df"
   ]
  },
  {
   "cell_type": "code",
   "execution_count": 5,
   "id": "dc23d2c8",
   "metadata": {},
   "outputs": [],
   "source": [
    "df = df.T"
   ]
  },
  {
   "cell_type": "code",
   "execution_count": 6,
   "id": "1516287d",
   "metadata": {},
   "outputs": [
    {
     "data": {
      "text/html": [
       "<div>\n",
       "<style scoped>\n",
       "    .dataframe tbody tr th:only-of-type {\n",
       "        vertical-align: middle;\n",
       "    }\n",
       "\n",
       "    .dataframe tbody tr th {\n",
       "        vertical-align: top;\n",
       "    }\n",
       "\n",
       "    .dataframe thead th {\n",
       "        text-align: right;\n",
       "    }\n",
       "</style>\n",
       "<table border=\"1\" class=\"dataframe\">\n",
       "  <thead>\n",
       "    <tr style=\"text-align: right;\">\n",
       "      <th></th>\n",
       "      <th>0</th>\n",
       "      <th>1</th>\n",
       "    </tr>\n",
       "  </thead>\n",
       "  <tbody>\n",
       "    <tr>\n",
       "      <th>0</th>\n",
       "      <td>0.752916</td>\n",
       "      <td>-0.246828</td>\n",
       "    </tr>\n",
       "    <tr>\n",
       "      <th>1</th>\n",
       "      <td>0.629547</td>\n",
       "      <td>-0.354668</td>\n",
       "    </tr>\n",
       "    <tr>\n",
       "      <th>2</th>\n",
       "      <td>0.974922</td>\n",
       "      <td>-0.136484</td>\n",
       "    </tr>\n",
       "    <tr>\n",
       "      <th>3</th>\n",
       "      <td>0.679239</td>\n",
       "      <td>0.129539</td>\n",
       "    </tr>\n",
       "    <tr>\n",
       "      <th>4</th>\n",
       "      <td>0.010365</td>\n",
       "      <td>-0.884134</td>\n",
       "    </tr>\n",
       "    <tr>\n",
       "      <th>5</th>\n",
       "      <td>0.215788</td>\n",
       "      <td>-0.730948</td>\n",
       "    </tr>\n",
       "    <tr>\n",
       "      <th>6</th>\n",
       "      <td>0.750447</td>\n",
       "      <td>0.970346</td>\n",
       "    </tr>\n",
       "    <tr>\n",
       "      <th>7</th>\n",
       "      <td>0.992142</td>\n",
       "      <td>-0.318829</td>\n",
       "    </tr>\n",
       "    <tr>\n",
       "      <th>8</th>\n",
       "      <td>0.897434</td>\n",
       "      <td>0.383992</td>\n",
       "    </tr>\n",
       "    <tr>\n",
       "      <th>9</th>\n",
       "      <td>0.093020</td>\n",
       "      <td>-1.390486</td>\n",
       "    </tr>\n",
       "  </tbody>\n",
       "</table>\n",
       "</div>"
      ],
      "text/plain": [
       "          0         1\n",
       "0  0.752916 -0.246828\n",
       "1  0.629547 -0.354668\n",
       "2  0.974922 -0.136484\n",
       "3  0.679239  0.129539\n",
       "4  0.010365 -0.884134\n",
       "5  0.215788 -0.730948\n",
       "6  0.750447  0.970346\n",
       "7  0.992142 -0.318829\n",
       "8  0.897434  0.383992\n",
       "9  0.093020 -1.390486"
      ]
     },
     "execution_count": 6,
     "metadata": {},
     "output_type": "execute_result"
    }
   ],
   "source": [
    "df"
   ]
  },
  {
   "cell_type": "code",
   "execution_count": 12,
   "id": "42eda0df",
   "metadata": {},
   "outputs": [
    {
     "data": {
      "text/html": [
       "<div>\n",
       "<style scoped>\n",
       "    .dataframe tbody tr th:only-of-type {\n",
       "        vertical-align: middle;\n",
       "    }\n",
       "\n",
       "    .dataframe tbody tr th {\n",
       "        vertical-align: top;\n",
       "    }\n",
       "\n",
       "    .dataframe thead th {\n",
       "        text-align: right;\n",
       "    }\n",
       "</style>\n",
       "<table border=\"1\" class=\"dataframe\">\n",
       "  <thead>\n",
       "    <tr style=\"text-align: right;\">\n",
       "      <th></th>\n",
       "      <th>Date</th>\n",
       "      <th>Open</th>\n",
       "      <th>High</th>\n",
       "      <th>Low</th>\n",
       "      <th>Close</th>\n",
       "      <th>Adj Close</th>\n",
       "      <th>Volume</th>\n",
       "    </tr>\n",
       "  </thead>\n",
       "  <tbody>\n",
       "    <tr>\n",
       "      <th>247</th>\n",
       "      <td>2023-12-11</td>\n",
       "      <td>33.520000</td>\n",
       "      <td>33.750000</td>\n",
       "      <td>31.930000</td>\n",
       "      <td>32.459999</td>\n",
       "      <td>32.459999</td>\n",
       "      <td>7478900</td>\n",
       "    </tr>\n",
       "    <tr>\n",
       "      <th>248</th>\n",
       "      <td>2023-12-12</td>\n",
       "      <td>32.939999</td>\n",
       "      <td>33.590000</td>\n",
       "      <td>32.810001</td>\n",
       "      <td>33.419998</td>\n",
       "      <td>33.419998</td>\n",
       "      <td>4411500</td>\n",
       "    </tr>\n",
       "    <tr>\n",
       "      <th>249</th>\n",
       "      <td>2023-12-13</td>\n",
       "      <td>33.470001</td>\n",
       "      <td>35.619999</td>\n",
       "      <td>33.400002</td>\n",
       "      <td>35.590000</td>\n",
       "      <td>35.590000</td>\n",
       "      <td>6212200</td>\n",
       "    </tr>\n",
       "    <tr>\n",
       "      <th>250</th>\n",
       "      <td>2023-12-14</td>\n",
       "      <td>35.209999</td>\n",
       "      <td>35.330002</td>\n",
       "      <td>34.417999</td>\n",
       "      <td>34.900002</td>\n",
       "      <td>34.900002</td>\n",
       "      <td>5263500</td>\n",
       "    </tr>\n",
       "    <tr>\n",
       "      <th>251</th>\n",
       "      <td>2023-12-15</td>\n",
       "      <td>34.349998</td>\n",
       "      <td>34.400002</td>\n",
       "      <td>33.599998</td>\n",
       "      <td>33.619999</td>\n",
       "      <td>33.619999</td>\n",
       "      <td>1876793</td>\n",
       "    </tr>\n",
       "  </tbody>\n",
       "</table>\n",
       "</div>"
      ],
      "text/plain": [
       "           Date       Open       High        Low      Close  Adj Close  \\\n",
       "247  2023-12-11  33.520000  33.750000  31.930000  32.459999  32.459999   \n",
       "248  2023-12-12  32.939999  33.590000  32.810001  33.419998  33.419998   \n",
       "249  2023-12-13  33.470001  35.619999  33.400002  35.590000  35.590000   \n",
       "250  2023-12-14  35.209999  35.330002  34.417999  34.900002  34.900002   \n",
       "251  2023-12-15  34.349998  34.400002  33.599998  33.619999  33.619999   \n",
       "\n",
       "      Volume  \n",
       "247  7478900  \n",
       "248  4411500  \n",
       "249  6212200  \n",
       "250  5263500  \n",
       "251  1876793  "
      ]
     },
     "execution_count": 12,
     "metadata": {},
     "output_type": "execute_result"
    }
   ],
   "source": [
    "data = pd.read_csv('data/GBTC.csv')\n",
    "data.tail()"
   ]
  },
  {
   "cell_type": "code",
   "execution_count": 9,
   "id": "19d0311e",
   "metadata": {},
   "outputs": [
    {
     "data": {
      "text/plain": [
       "0           NaN\n",
       "1     -0.044578\n",
       "2      0.025221\n",
       "3     -0.006150\n",
       "4     -0.003713\n",
       "         ...   \n",
       "247   -0.085891\n",
       "248    0.029575\n",
       "249    0.064931\n",
       "250   -0.019387\n",
       "251   -0.036676\n",
       "Name: Close, Length: 252, dtype: float64"
      ]
     },
     "execution_count": 9,
     "metadata": {},
     "output_type": "execute_result"
    }
   ],
   "source": [
    "data['Close'].pct_change()"
   ]
  },
  {
   "cell_type": "code",
   "execution_count": 8,
   "id": "3da661d6",
   "metadata": {},
   "outputs": [
    {
     "data": {
      "text/plain": [
       "1     -0.045602\n",
       "2      0.024908\n",
       "3     -0.006169\n",
       "4     -0.003720\n",
       "5      0.012346\n",
       "         ...   \n",
       "247   -0.089806\n",
       "248    0.029146\n",
       "249    0.062910\n",
       "250   -0.019578\n",
       "251   -0.037366\n",
       "Name: Close, Length: 251, dtype: float64"
      ]
     },
     "execution_count": 8,
     "metadata": {},
     "output_type": "execute_result"
    }
   ],
   "source": [
    "change = np.log(data['Close']).diff()\n",
    "change.dropna()"
   ]
  },
  {
   "cell_type": "code",
   "execution_count": 73,
   "id": "4bc248f0",
   "metadata": {},
   "outputs": [
    {
     "data": {
      "text/plain": [
       "count    251.000000\n",
       "mean       0.005573\n",
       "std        0.040434\n",
       "min       -0.115143\n",
       "25%       -0.021262\n",
       "50%        0.003756\n",
       "75%        0.026162\n",
       "max        0.156585\n",
       "Name: Close, dtype: float64"
      ]
     },
     "execution_count": 73,
     "metadata": {},
     "output_type": "execute_result"
    }
   ],
   "source": [
    "change.describe()"
   ]
  },
  {
   "cell_type": "code",
   "execution_count": null,
   "id": "f83f1164",
   "metadata": {},
   "outputs": [],
   "source": [
    "change.cumsum()"
   ]
  },
  {
   "cell_type": "code",
   "execution_count": 75,
   "id": "15eb6a5b",
   "metadata": {},
   "outputs": [
    {
     "data": {
      "text/html": [
       "<div>\n",
       "<style scoped>\n",
       "    .dataframe tbody tr th:only-of-type {\n",
       "        vertical-align: middle;\n",
       "    }\n",
       "\n",
       "    .dataframe tbody tr th {\n",
       "        vertical-align: top;\n",
       "    }\n",
       "\n",
       "    .dataframe thead th {\n",
       "        text-align: right;\n",
       "    }\n",
       "</style>\n",
       "<table border=\"1\" class=\"dataframe\">\n",
       "  <thead>\n",
       "    <tr style=\"text-align: right;\">\n",
       "      <th></th>\n",
       "      <th>Open</th>\n",
       "      <th>High</th>\n",
       "      <th>Low</th>\n",
       "      <th>Close</th>\n",
       "      <th>Adj Close</th>\n",
       "      <th>Volume</th>\n",
       "    </tr>\n",
       "  </thead>\n",
       "  <tbody>\n",
       "    <tr>\n",
       "      <th>Open</th>\n",
       "      <td>1.000000</td>\n",
       "      <td>0.997283</td>\n",
       "      <td>0.998440</td>\n",
       "      <td>0.995671</td>\n",
       "      <td>0.995671</td>\n",
       "      <td>0.236058</td>\n",
       "    </tr>\n",
       "    <tr>\n",
       "      <th>High</th>\n",
       "      <td>0.997283</td>\n",
       "      <td>1.000000</td>\n",
       "      <td>0.997352</td>\n",
       "      <td>0.998460</td>\n",
       "      <td>0.998460</td>\n",
       "      <td>0.277280</td>\n",
       "    </tr>\n",
       "    <tr>\n",
       "      <th>Low</th>\n",
       "      <td>0.998440</td>\n",
       "      <td>0.997352</td>\n",
       "      <td>1.000000</td>\n",
       "      <td>0.997921</td>\n",
       "      <td>0.997921</td>\n",
       "      <td>0.225158</td>\n",
       "    </tr>\n",
       "    <tr>\n",
       "      <th>Close</th>\n",
       "      <td>0.995671</td>\n",
       "      <td>0.998460</td>\n",
       "      <td>0.997921</td>\n",
       "      <td>1.000000</td>\n",
       "      <td>1.000000</td>\n",
       "      <td>0.258385</td>\n",
       "    </tr>\n",
       "    <tr>\n",
       "      <th>Adj Close</th>\n",
       "      <td>0.995671</td>\n",
       "      <td>0.998460</td>\n",
       "      <td>0.997921</td>\n",
       "      <td>1.000000</td>\n",
       "      <td>1.000000</td>\n",
       "      <td>0.258385</td>\n",
       "    </tr>\n",
       "    <tr>\n",
       "      <th>Volume</th>\n",
       "      <td>0.236058</td>\n",
       "      <td>0.277280</td>\n",
       "      <td>0.225158</td>\n",
       "      <td>0.258385</td>\n",
       "      <td>0.258385</td>\n",
       "      <td>1.000000</td>\n",
       "    </tr>\n",
       "  </tbody>\n",
       "</table>\n",
       "</div>"
      ],
      "text/plain": [
       "               Open      High       Low     Close  Adj Close    Volume\n",
       "Open       1.000000  0.997283  0.998440  0.995671   0.995671  0.236058\n",
       "High       0.997283  1.000000  0.997352  0.998460   0.998460  0.277280\n",
       "Low        0.998440  0.997352  1.000000  0.997921   0.997921  0.225158\n",
       "Close      0.995671  0.998460  0.997921  1.000000   1.000000  0.258385\n",
       "Adj Close  0.995671  0.998460  0.997921  1.000000   1.000000  0.258385\n",
       "Volume     0.236058  0.277280  0.225158  0.258385   0.258385  1.000000"
      ]
     },
     "execution_count": 75,
     "metadata": {},
     "output_type": "execute_result"
    }
   ],
   "source": [
    "data.corr(numeric_only=True)"
   ]
  },
  {
   "cell_type": "code",
   "execution_count": 10,
   "id": "aa7bd1e2",
   "metadata": {},
   "outputs": [
    {
     "data": {
      "text/plain": [
       "-0.03736578827870085"
      ]
     },
     "execution_count": 10,
     "metadata": {},
     "output_type": "execute_result"
    }
   ],
   "source": [
    "# find a row based on index\n",
    "change.iloc[-1]"
   ]
  },
  {
   "cell_type": "code",
   "execution_count": 14,
   "id": "90cb950e",
   "metadata": {},
   "outputs": [
    {
     "data": {
      "text/plain": [
       "Index(['2022-12-15', '2022-12-16', '2022-12-19', '2022-12-20', '2022-12-21',\n",
       "       '2022-12-22', '2022-12-23', '2022-12-27', '2022-12-28', '2022-12-29',\n",
       "       ...\n",
       "       '2023-12-04', '2023-12-05', '2023-12-06', '2023-12-07', '2023-12-08',\n",
       "       '2023-12-11', '2023-12-12', '2023-12-13', '2023-12-14', '2023-12-15'],\n",
       "      dtype='object', name='Date', length=252)"
      ]
     },
     "execution_count": 14,
     "metadata": {},
     "output_type": "execute_result"
    }
   ],
   "source": [
    "# changing the index\n",
    "change.index = data['Date']\n",
    "change.index"
   ]
  },
  {
   "cell_type": "code",
   "execution_count": 16,
   "id": "eee022e1",
   "metadata": {},
   "outputs": [
    {
     "data": {
      "text/plain": [
       "-0.03736578827870085"
      ]
     },
     "execution_count": 16,
     "metadata": {},
     "output_type": "execute_result"
    }
   ],
   "source": [
    "# if the index is not integer based, you can use a specific value\n",
    "change.loc['2023-12-15']"
   ]
  },
  {
   "cell_type": "code",
   "execution_count": 17,
   "id": "f30621a3",
   "metadata": {},
   "outputs": [
    {
     "data": {
      "text/plain": [
       "pandas.core.indexes.base.Index"
      ]
     },
     "execution_count": 17,
     "metadata": {},
     "output_type": "execute_result"
    }
   ],
   "source": [
    "type(change.index)"
   ]
  },
  {
   "cell_type": "code",
   "execution_count": 18,
   "id": "4e1e76ae",
   "metadata": {},
   "outputs": [
    {
     "ename": "AttributeError",
     "evalue": "'Index' object has no attribute 'year'",
     "output_type": "error",
     "traceback": [
      "\u001b[1;31m---------------------------------------------------------------------------\u001b[0m",
      "\u001b[1;31mAttributeError\u001b[0m                            Traceback (most recent call last)",
      "Cell \u001b[1;32mIn[18], line 1\u001b[0m\n\u001b[1;32m----> 1\u001b[0m change\u001b[38;5;241m.\u001b[39mindex\u001b[38;5;241m.\u001b[39myear\n",
      "\u001b[1;31mAttributeError\u001b[0m: 'Index' object has no attribute 'year'"
     ]
    }
   ],
   "source": [
    "change.index.year"
   ]
  },
  {
   "cell_type": "code",
   "execution_count": 21,
   "id": "acdf2e88",
   "metadata": {},
   "outputs": [
    {
     "name": "stdout",
     "output_type": "stream",
     "text": [
      "<class 'pandas.core.series.Series'>\n",
      "Index: 252 entries, 2022-12-15 to 2023-12-15\n",
      "Series name: Close\n",
      "Non-Null Count  Dtype  \n",
      "--------------  -----  \n",
      "251 non-null    float64\n",
      "dtypes: float64(1)\n",
      "memory usage: 12.0+ KB\n"
     ]
    }
   ],
   "source": [
    "change.info()"
   ]
  },
  {
   "cell_type": "code",
   "execution_count": 14,
   "id": "460ae134",
   "metadata": {},
   "outputs": [],
   "source": []
  },
  {
   "cell_type": "code",
   "execution_count": 19,
   "id": "2c1c131a",
   "metadata": {},
   "outputs": [
    {
     "data": {
      "text/plain": [
       "Date\n",
       "2022-12-15         NaN\n",
       "2022-12-16   -0.045602\n",
       "2022-12-19    0.024908\n",
       "2022-12-20   -0.006169\n",
       "2022-12-21   -0.003720\n",
       "Name: Close, dtype: float64"
      ]
     },
     "execution_count": 19,
     "metadata": {},
     "output_type": "execute_result"
    }
   ],
   "source": [
    "change.iloc[:5]"
   ]
  },
  {
   "cell_type": "markdown",
   "id": "dc5aff70",
   "metadata": {},
   "source": [
    "### 3. Dates and Indexes"
   ]
  },
  {
   "cell_type": "code",
   "execution_count": 24,
   "id": "6af39a7d",
   "metadata": {},
   "outputs": [],
   "source": [
    "change.index = pd.DatetimeIndex(change.index)"
   ]
  },
  {
   "cell_type": "code",
   "execution_count": 25,
   "id": "516aa5f1",
   "metadata": {},
   "outputs": [
    {
     "name": "stdout",
     "output_type": "stream",
     "text": [
      "<class 'pandas.core.series.Series'>\n",
      "DatetimeIndex: 252 entries, 2022-12-15 to 2023-12-15\n",
      "Series name: Close\n",
      "Non-Null Count  Dtype  \n",
      "--------------  -----  \n",
      "251 non-null    float64\n",
      "dtypes: float64(1)\n",
      "memory usage: 3.9 KB\n"
     ]
    }
   ],
   "source": [
    "change.info()"
   ]
  },
  {
   "cell_type": "code",
   "execution_count": 26,
   "id": "569b178f",
   "metadata": {},
   "outputs": [
    {
     "data": {
      "text/plain": [
       "Int64Index([2022, 2022, 2022, 2022, 2022, 2022, 2022, 2022, 2022, 2022,\n",
       "            ...\n",
       "            2023, 2023, 2023, 2023, 2023, 2023, 2023, 2023, 2023, 2023],\n",
       "           dtype='int64', name='Date', length=252)"
      ]
     },
     "execution_count": 26,
     "metadata": {},
     "output_type": "execute_result"
    }
   ],
   "source": [
    "change.index.year"
   ]
  },
  {
   "cell_type": "code",
   "execution_count": 27,
   "id": "06eee5d4",
   "metadata": {},
   "outputs": [
    {
     "data": {
      "text/plain": [
       "DatetimeIndex(['2022-04-01', '2022-07-01', '2022-10-03', '2023-01-02',\n",
       "               '2023-04-03', '2023-07-03', '2023-10-02', '2024-01-01',\n",
       "               '2024-04-01', '2024-07-01', '2024-10-01', '2025-01-01'],\n",
       "              dtype='datetime64[ns]', freq='BQS-JAN')"
      ]
     },
     "execution_count": 27,
     "metadata": {},
     "output_type": "execute_result"
    }
   ],
   "source": [
    "pd.date_range('2022-04-01', periods=12, freq=\"BQS\")"
   ]
  },
  {
   "cell_type": "code",
   "execution_count": 28,
   "id": "ac7dde8f",
   "metadata": {},
   "outputs": [
    {
     "data": {
      "text/plain": [
       "Date\n",
       "2022-12-30    0.038112\n",
       "2023-01-31    0.021631\n",
       "2023-02-28    0.004342\n",
       "2023-03-31    0.033564\n",
       "2023-04-28   -0.001217\n",
       "2023-05-31   -0.032581\n",
       "2023-06-30   -0.018586\n",
       "2023-07-31    0.021398\n",
       "2023-08-31   -0.052068\n",
       "2023-09-29    0.009950\n",
       "2023-10-31    0.010519\n",
       "2023-11-30   -0.025237\n",
       "2023-12-29   -0.037366\n",
       "Freq: BM, Name: Close, dtype: float64"
      ]
     },
     "execution_count": 28,
     "metadata": {},
     "output_type": "execute_result"
    }
   ],
   "source": [
    "# need to give pandas an aggregate function, i.e. mean, std, first, last\n",
    "change.resample(\"BM\").last()"
   ]
  },
  {
   "cell_type": "code",
   "execution_count": 32,
   "id": "eb427a6a",
   "metadata": {},
   "outputs": [
    {
     "data": {
      "text/plain": [
       "Date\n",
       "2022-12-31    0.038112\n",
       "2023-01-31    0.021631\n",
       "2023-02-28    0.004342\n",
       "2023-03-31    0.033564\n",
       "2023-04-30   -0.001217\n",
       "2023-05-31   -0.032581\n",
       "2023-06-30   -0.018586\n",
       "2023-07-31    0.021398\n",
       "2023-08-31   -0.052068\n",
       "2023-09-30    0.009950\n",
       "2023-10-31    0.010519\n",
       "2023-11-30   -0.025237\n",
       "2023-12-31   -0.037366\n",
       "Freq: M, Name: Close, dtype: float64"
      ]
     },
     "execution_count": 32,
     "metadata": {},
     "output_type": "execute_result"
    }
   ],
   "source": [
    "# M, BM, MS, BMS\n",
    "change.resample(\"M\").last()"
   ]
  },
  {
   "cell_type": "code",
   "execution_count": null,
   "id": "f0c5748e",
   "metadata": {},
   "outputs": [],
   "source": [
    "# be careful with resampling\n",
    "change.resample(\"MS\").last()"
   ]
  },
  {
   "cell_type": "markdown",
   "id": "3838de3f",
   "metadata": {},
   "source": [
    "### 4. Slicing index loc vs. iloc"
   ]
  },
  {
   "cell_type": "code",
   "execution_count": 35,
   "id": "d81736ea",
   "metadata": {},
   "outputs": [
    {
     "data": {
      "text/plain": [
       "Date\n",
       "2023-01-03   -0.010916\n",
       "2023-01-04    0.021714\n",
       "2023-01-05    0.008319\n",
       "2023-01-06    0.023393\n",
       "2023-01-09    0.109399\n",
       "2023-01-10    0.023555\n",
       "2023-01-11   -0.008130\n",
       "2023-01-12    0.068040\n",
       "2023-01-13    0.076149\n",
       "Name: Close, dtype: float64"
      ]
     },
     "execution_count": 35,
     "metadata": {},
     "output_type": "execute_result"
    }
   ],
   "source": [
    "change.loc['2023-01-01': '2023-01-15']"
   ]
  },
  {
   "cell_type": "code",
   "execution_count": 43,
   "id": "69a328bb",
   "metadata": {},
   "outputs": [
    {
     "data": {
      "text/plain": [
       "Date\n",
       "2023-01-03   -0.010916\n",
       "2023-01-04    0.021714\n",
       "2023-01-05    0.008319\n",
       "2023-01-06    0.023393\n",
       "2023-01-09    0.109399\n",
       "2023-01-10    0.023555\n",
       "2023-01-11   -0.008130\n",
       "2023-01-12    0.068040\n",
       "2023-01-13    0.076149\n",
       "Name: Close, dtype: float64"
      ]
     },
     "execution_count": 43,
     "metadata": {},
     "output_type": "execute_result"
    }
   ],
   "source": [
    "change.iloc[11:20]"
   ]
  },
  {
   "cell_type": "code",
   "execution_count": null,
   "id": "e466a661",
   "metadata": {},
   "outputs": [],
   "source": []
  },
  {
   "cell_type": "markdown",
   "id": "61dac206",
   "metadata": {},
   "source": [
    "### 5. Slicing columns (columns a second index in DataFrames)"
   ]
  },
  {
   "cell_type": "code",
   "execution_count": 44,
   "id": "9b60eba6",
   "metadata": {},
   "outputs": [
    {
     "data": {
      "text/plain": [
       "0       8.300000\n",
       "1       7.930000\n",
       "2       8.130000\n",
       "3       8.080000\n",
       "4       8.050000\n",
       "         ...    \n",
       "247    32.459999\n",
       "248    33.419998\n",
       "249    35.590000\n",
       "250    34.900002\n",
       "251    33.619999\n",
       "Name: Close, Length: 252, dtype: float64"
      ]
     },
     "execution_count": 44,
     "metadata": {},
     "output_type": "execute_result"
    }
   ],
   "source": [
    "# or data['Close']\n",
    "data.Close"
   ]
  },
  {
   "cell_type": "code",
   "execution_count": null,
   "id": "076dc9ee",
   "metadata": {},
   "outputs": [],
   "source": [
    "data[['Open', 'Close']]"
   ]
  },
  {
   "cell_type": "code",
   "execution_count": null,
   "id": "30196ff4",
   "metadata": {},
   "outputs": [],
   "source": []
  },
  {
   "cell_type": "markdown",
   "id": "e2d50dd9",
   "metadata": {},
   "source": [
    "### 6. Renaming columns"
   ]
  },
  {
   "cell_type": "code",
   "execution_count": null,
   "id": "05d5f146",
   "metadata": {},
   "outputs": [],
   "source": [
    "data.rename(columns={'Open': 'FirstTrade'})"
   ]
  },
  {
   "cell_type": "code",
   "execution_count": 3,
   "id": "7f78e1fb",
   "metadata": {},
   "outputs": [],
   "source": [
    "# what gives? \n",
    "data"
   ]
  },
  {
   "cell_type": "markdown",
   "id": "f5aef3fd",
   "metadata": {},
   "source": [
    "### 7. Reordering columns"
   ]
  },
  {
   "cell_type": "code",
   "execution_count": 54,
   "id": "da972628",
   "metadata": {},
   "outputs": [
    {
     "data": {
      "text/html": [
       "<div>\n",
       "<style scoped>\n",
       "    .dataframe tbody tr th:only-of-type {\n",
       "        vertical-align: middle;\n",
       "    }\n",
       "\n",
       "    .dataframe tbody tr th {\n",
       "        vertical-align: top;\n",
       "    }\n",
       "\n",
       "    .dataframe thead th {\n",
       "        text-align: right;\n",
       "    }\n",
       "</style>\n",
       "<table border=\"1\" class=\"dataframe\">\n",
       "  <thead>\n",
       "    <tr style=\"text-align: right;\">\n",
       "      <th></th>\n",
       "      <th>Close</th>\n",
       "      <th>High</th>\n",
       "      <th>Open</th>\n",
       "      <th>Low</th>\n",
       "    </tr>\n",
       "  </thead>\n",
       "  <tbody>\n",
       "    <tr>\n",
       "      <th>0</th>\n",
       "      <td>8.300000</td>\n",
       "      <td>8.353000</td>\n",
       "      <td>8.210000</td>\n",
       "      <td>8.140000</td>\n",
       "    </tr>\n",
       "    <tr>\n",
       "      <th>1</th>\n",
       "      <td>7.930000</td>\n",
       "      <td>8.130000</td>\n",
       "      <td>8.055000</td>\n",
       "      <td>7.900000</td>\n",
       "    </tr>\n",
       "    <tr>\n",
       "      <th>2</th>\n",
       "      <td>8.130000</td>\n",
       "      <td>8.400000</td>\n",
       "      <td>7.935000</td>\n",
       "      <td>7.930000</td>\n",
       "    </tr>\n",
       "    <tr>\n",
       "      <th>3</th>\n",
       "      <td>8.080000</td>\n",
       "      <td>8.300000</td>\n",
       "      <td>8.125000</td>\n",
       "      <td>7.840000</td>\n",
       "    </tr>\n",
       "    <tr>\n",
       "      <th>4</th>\n",
       "      <td>8.050000</td>\n",
       "      <td>8.070000</td>\n",
       "      <td>8.000000</td>\n",
       "      <td>7.920000</td>\n",
       "    </tr>\n",
       "    <tr>\n",
       "      <th>...</th>\n",
       "      <td>...</td>\n",
       "      <td>...</td>\n",
       "      <td>...</td>\n",
       "      <td>...</td>\n",
       "    </tr>\n",
       "    <tr>\n",
       "      <th>247</th>\n",
       "      <td>32.459999</td>\n",
       "      <td>33.750000</td>\n",
       "      <td>33.520000</td>\n",
       "      <td>31.930000</td>\n",
       "    </tr>\n",
       "    <tr>\n",
       "      <th>248</th>\n",
       "      <td>33.419998</td>\n",
       "      <td>33.590000</td>\n",
       "      <td>32.939999</td>\n",
       "      <td>32.810001</td>\n",
       "    </tr>\n",
       "    <tr>\n",
       "      <th>249</th>\n",
       "      <td>35.590000</td>\n",
       "      <td>35.619999</td>\n",
       "      <td>33.470001</td>\n",
       "      <td>33.400002</td>\n",
       "    </tr>\n",
       "    <tr>\n",
       "      <th>250</th>\n",
       "      <td>34.900002</td>\n",
       "      <td>35.330002</td>\n",
       "      <td>35.209999</td>\n",
       "      <td>34.417999</td>\n",
       "    </tr>\n",
       "    <tr>\n",
       "      <th>251</th>\n",
       "      <td>33.619999</td>\n",
       "      <td>34.400002</td>\n",
       "      <td>34.349998</td>\n",
       "      <td>33.599998</td>\n",
       "    </tr>\n",
       "  </tbody>\n",
       "</table>\n",
       "<p>252 rows × 4 columns</p>\n",
       "</div>"
      ],
      "text/plain": [
       "         Close       High       Open        Low\n",
       "0     8.300000   8.353000   8.210000   8.140000\n",
       "1     7.930000   8.130000   8.055000   7.900000\n",
       "2     8.130000   8.400000   7.935000   7.930000\n",
       "3     8.080000   8.300000   8.125000   7.840000\n",
       "4     8.050000   8.070000   8.000000   7.920000\n",
       "..         ...        ...        ...        ...\n",
       "247  32.459999  33.750000  33.520000  31.930000\n",
       "248  33.419998  33.590000  32.939999  32.810001\n",
       "249  35.590000  35.619999  33.470001  33.400002\n",
       "250  34.900002  35.330002  35.209999  34.417999\n",
       "251  33.619999  34.400002  34.349998  33.599998\n",
       "\n",
       "[252 rows x 4 columns]"
      ]
     },
     "execution_count": 54,
     "metadata": {},
     "output_type": "execute_result"
    }
   ],
   "source": [
    "data[['Volume', 'Close', 'Low']]"
   ]
  },
  {
   "cell_type": "code",
   "execution_count": null,
   "id": "850c7078",
   "metadata": {},
   "outputs": [],
   "source": []
  },
  {
   "cell_type": "markdown",
   "id": "ce136844",
   "metadata": {},
   "source": [
    "### 8. Removing columns or rows"
   ]
  },
  {
   "cell_type": "code",
   "execution_count": 51,
   "id": "fc115afa",
   "metadata": {},
   "outputs": [
    {
     "data": {
      "text/html": [
       "<div>\n",
       "<style scoped>\n",
       "    .dataframe tbody tr th:only-of-type {\n",
       "        vertical-align: middle;\n",
       "    }\n",
       "\n",
       "    .dataframe tbody tr th {\n",
       "        vertical-align: top;\n",
       "    }\n",
       "\n",
       "    .dataframe thead th {\n",
       "        text-align: right;\n",
       "    }\n",
       "</style>\n",
       "<table border=\"1\" class=\"dataframe\">\n",
       "  <thead>\n",
       "    <tr style=\"text-align: right;\">\n",
       "      <th></th>\n",
       "      <th>Date</th>\n",
       "      <th>Open</th>\n",
       "      <th>High</th>\n",
       "      <th>Low</th>\n",
       "      <th>Close</th>\n",
       "      <th>Volume</th>\n",
       "    </tr>\n",
       "  </thead>\n",
       "  <tbody>\n",
       "    <tr>\n",
       "      <th>0</th>\n",
       "      <td>2022-12-15</td>\n",
       "      <td>8.210000</td>\n",
       "      <td>8.353000</td>\n",
       "      <td>8.140000</td>\n",
       "      <td>8.300000</td>\n",
       "      <td>2934400</td>\n",
       "    </tr>\n",
       "    <tr>\n",
       "      <th>1</th>\n",
       "      <td>2022-12-16</td>\n",
       "      <td>8.055000</td>\n",
       "      <td>8.130000</td>\n",
       "      <td>7.900000</td>\n",
       "      <td>7.930000</td>\n",
       "      <td>3795900</td>\n",
       "    </tr>\n",
       "    <tr>\n",
       "      <th>2</th>\n",
       "      <td>2022-12-19</td>\n",
       "      <td>7.935000</td>\n",
       "      <td>8.400000</td>\n",
       "      <td>7.930000</td>\n",
       "      <td>8.130000</td>\n",
       "      <td>3558400</td>\n",
       "    </tr>\n",
       "    <tr>\n",
       "      <th>3</th>\n",
       "      <td>2022-12-20</td>\n",
       "      <td>8.125000</td>\n",
       "      <td>8.300000</td>\n",
       "      <td>7.840000</td>\n",
       "      <td>8.080000</td>\n",
       "      <td>3390300</td>\n",
       "    </tr>\n",
       "    <tr>\n",
       "      <th>4</th>\n",
       "      <td>2022-12-21</td>\n",
       "      <td>8.000000</td>\n",
       "      <td>8.070000</td>\n",
       "      <td>7.920000</td>\n",
       "      <td>8.050000</td>\n",
       "      <td>2538200</td>\n",
       "    </tr>\n",
       "    <tr>\n",
       "      <th>...</th>\n",
       "      <td>...</td>\n",
       "      <td>...</td>\n",
       "      <td>...</td>\n",
       "      <td>...</td>\n",
       "      <td>...</td>\n",
       "      <td>...</td>\n",
       "    </tr>\n",
       "    <tr>\n",
       "      <th>247</th>\n",
       "      <td>2023-12-11</td>\n",
       "      <td>33.520000</td>\n",
       "      <td>33.750000</td>\n",
       "      <td>31.930000</td>\n",
       "      <td>32.459999</td>\n",
       "      <td>7478900</td>\n",
       "    </tr>\n",
       "    <tr>\n",
       "      <th>248</th>\n",
       "      <td>2023-12-12</td>\n",
       "      <td>32.939999</td>\n",
       "      <td>33.590000</td>\n",
       "      <td>32.810001</td>\n",
       "      <td>33.419998</td>\n",
       "      <td>4411500</td>\n",
       "    </tr>\n",
       "    <tr>\n",
       "      <th>249</th>\n",
       "      <td>2023-12-13</td>\n",
       "      <td>33.470001</td>\n",
       "      <td>35.619999</td>\n",
       "      <td>33.400002</td>\n",
       "      <td>35.590000</td>\n",
       "      <td>6212200</td>\n",
       "    </tr>\n",
       "    <tr>\n",
       "      <th>250</th>\n",
       "      <td>2023-12-14</td>\n",
       "      <td>35.209999</td>\n",
       "      <td>35.330002</td>\n",
       "      <td>34.417999</td>\n",
       "      <td>34.900002</td>\n",
       "      <td>5263500</td>\n",
       "    </tr>\n",
       "    <tr>\n",
       "      <th>251</th>\n",
       "      <td>2023-12-15</td>\n",
       "      <td>34.349998</td>\n",
       "      <td>34.400002</td>\n",
       "      <td>33.599998</td>\n",
       "      <td>33.619999</td>\n",
       "      <td>1876793</td>\n",
       "    </tr>\n",
       "  </tbody>\n",
       "</table>\n",
       "<p>252 rows × 6 columns</p>\n",
       "</div>"
      ],
      "text/plain": [
       "           Date       Open       High        Low      Close   Volume\n",
       "0    2022-12-15   8.210000   8.353000   8.140000   8.300000  2934400\n",
       "1    2022-12-16   8.055000   8.130000   7.900000   7.930000  3795900\n",
       "2    2022-12-19   7.935000   8.400000   7.930000   8.130000  3558400\n",
       "3    2022-12-20   8.125000   8.300000   7.840000   8.080000  3390300\n",
       "4    2022-12-21   8.000000   8.070000   7.920000   8.050000  2538200\n",
       "..          ...        ...        ...        ...        ...      ...\n",
       "247  2023-12-11  33.520000  33.750000  31.930000  32.459999  7478900\n",
       "248  2023-12-12  32.939999  33.590000  32.810001  33.419998  4411500\n",
       "249  2023-12-13  33.470001  35.619999  33.400002  35.590000  6212200\n",
       "250  2023-12-14  35.209999  35.330002  34.417999  34.900002  5263500\n",
       "251  2023-12-15  34.349998  34.400002  33.599998  33.619999  1876793\n",
       "\n",
       "[252 rows x 6 columns]"
      ]
     },
     "execution_count": 51,
     "metadata": {},
     "output_type": "execute_result"
    }
   ],
   "source": [
    "# set inplace=True to drop the column from original dataset\n",
    "data.drop(columns=['Adj Close'])"
   ]
  },
  {
   "cell_type": "code",
   "execution_count": 52,
   "id": "92fb6c69",
   "metadata": {},
   "outputs": [
    {
     "data": {
      "text/html": [
       "<div>\n",
       "<style scoped>\n",
       "    .dataframe tbody tr th:only-of-type {\n",
       "        vertical-align: middle;\n",
       "    }\n",
       "\n",
       "    .dataframe tbody tr th {\n",
       "        vertical-align: top;\n",
       "    }\n",
       "\n",
       "    .dataframe thead th {\n",
       "        text-align: right;\n",
       "    }\n",
       "</style>\n",
       "<table border=\"1\" class=\"dataframe\">\n",
       "  <thead>\n",
       "    <tr style=\"text-align: right;\">\n",
       "      <th></th>\n",
       "      <th>Date</th>\n",
       "      <th>Open</th>\n",
       "      <th>High</th>\n",
       "      <th>Low</th>\n",
       "      <th>Close</th>\n",
       "      <th>Adj Close</th>\n",
       "      <th>Volume</th>\n",
       "    </tr>\n",
       "  </thead>\n",
       "  <tbody>\n",
       "    <tr>\n",
       "      <th>0</th>\n",
       "      <td>2022-12-15</td>\n",
       "      <td>8.210000</td>\n",
       "      <td>8.353000</td>\n",
       "      <td>8.140000</td>\n",
       "      <td>8.300000</td>\n",
       "      <td>8.300000</td>\n",
       "      <td>2934400</td>\n",
       "    </tr>\n",
       "    <tr>\n",
       "      <th>1</th>\n",
       "      <td>2022-12-16</td>\n",
       "      <td>8.055000</td>\n",
       "      <td>8.130000</td>\n",
       "      <td>7.900000</td>\n",
       "      <td>7.930000</td>\n",
       "      <td>7.930000</td>\n",
       "      <td>3795900</td>\n",
       "    </tr>\n",
       "    <tr>\n",
       "      <th>2</th>\n",
       "      <td>2022-12-19</td>\n",
       "      <td>7.935000</td>\n",
       "      <td>8.400000</td>\n",
       "      <td>7.930000</td>\n",
       "      <td>8.130000</td>\n",
       "      <td>8.130000</td>\n",
       "      <td>3558400</td>\n",
       "    </tr>\n",
       "    <tr>\n",
       "      <th>3</th>\n",
       "      <td>2022-12-20</td>\n",
       "      <td>8.125000</td>\n",
       "      <td>8.300000</td>\n",
       "      <td>7.840000</td>\n",
       "      <td>8.080000</td>\n",
       "      <td>8.080000</td>\n",
       "      <td>3390300</td>\n",
       "    </tr>\n",
       "    <tr>\n",
       "      <th>4</th>\n",
       "      <td>2022-12-21</td>\n",
       "      <td>8.000000</td>\n",
       "      <td>8.070000</td>\n",
       "      <td>7.920000</td>\n",
       "      <td>8.050000</td>\n",
       "      <td>8.050000</td>\n",
       "      <td>2538200</td>\n",
       "    </tr>\n",
       "    <tr>\n",
       "      <th>...</th>\n",
       "      <td>...</td>\n",
       "      <td>...</td>\n",
       "      <td>...</td>\n",
       "      <td>...</td>\n",
       "      <td>...</td>\n",
       "      <td>...</td>\n",
       "      <td>...</td>\n",
       "    </tr>\n",
       "    <tr>\n",
       "      <th>247</th>\n",
       "      <td>2023-12-11</td>\n",
       "      <td>33.520000</td>\n",
       "      <td>33.750000</td>\n",
       "      <td>31.930000</td>\n",
       "      <td>32.459999</td>\n",
       "      <td>32.459999</td>\n",
       "      <td>7478900</td>\n",
       "    </tr>\n",
       "    <tr>\n",
       "      <th>248</th>\n",
       "      <td>2023-12-12</td>\n",
       "      <td>32.939999</td>\n",
       "      <td>33.590000</td>\n",
       "      <td>32.810001</td>\n",
       "      <td>33.419998</td>\n",
       "      <td>33.419998</td>\n",
       "      <td>4411500</td>\n",
       "    </tr>\n",
       "    <tr>\n",
       "      <th>249</th>\n",
       "      <td>2023-12-13</td>\n",
       "      <td>33.470001</td>\n",
       "      <td>35.619999</td>\n",
       "      <td>33.400002</td>\n",
       "      <td>35.590000</td>\n",
       "      <td>35.590000</td>\n",
       "      <td>6212200</td>\n",
       "    </tr>\n",
       "    <tr>\n",
       "      <th>250</th>\n",
       "      <td>2023-12-14</td>\n",
       "      <td>35.209999</td>\n",
       "      <td>35.330002</td>\n",
       "      <td>34.417999</td>\n",
       "      <td>34.900002</td>\n",
       "      <td>34.900002</td>\n",
       "      <td>5263500</td>\n",
       "    </tr>\n",
       "    <tr>\n",
       "      <th>251</th>\n",
       "      <td>2023-12-15</td>\n",
       "      <td>34.349998</td>\n",
       "      <td>34.400002</td>\n",
       "      <td>33.599998</td>\n",
       "      <td>33.619999</td>\n",
       "      <td>33.619999</td>\n",
       "      <td>1876793</td>\n",
       "    </tr>\n",
       "  </tbody>\n",
       "</table>\n",
       "<p>252 rows × 7 columns</p>\n",
       "</div>"
      ],
      "text/plain": [
       "           Date       Open       High        Low      Close  Adj Close  \\\n",
       "0    2022-12-15   8.210000   8.353000   8.140000   8.300000   8.300000   \n",
       "1    2022-12-16   8.055000   8.130000   7.900000   7.930000   7.930000   \n",
       "2    2022-12-19   7.935000   8.400000   7.930000   8.130000   8.130000   \n",
       "3    2022-12-20   8.125000   8.300000   7.840000   8.080000   8.080000   \n",
       "4    2022-12-21   8.000000   8.070000   7.920000   8.050000   8.050000   \n",
       "..          ...        ...        ...        ...        ...        ...   \n",
       "247  2023-12-11  33.520000  33.750000  31.930000  32.459999  32.459999   \n",
       "248  2023-12-12  32.939999  33.590000  32.810001  33.419998  33.419998   \n",
       "249  2023-12-13  33.470001  35.619999  33.400002  35.590000  35.590000   \n",
       "250  2023-12-14  35.209999  35.330002  34.417999  34.900002  34.900002   \n",
       "251  2023-12-15  34.349998  34.400002  33.599998  33.619999  33.619999   \n",
       "\n",
       "      Volume  \n",
       "0    2934400  \n",
       "1    3795900  \n",
       "2    3558400  \n",
       "3    3390300  \n",
       "4    2538200  \n",
       "..       ...  \n",
       "247  7478900  \n",
       "248  4411500  \n",
       "249  6212200  \n",
       "250  5263500  \n",
       "251  1876793  \n",
       "\n",
       "[252 rows x 7 columns]"
      ]
     },
     "execution_count": 52,
     "metadata": {},
     "output_type": "execute_result"
    }
   ],
   "source": [
    "data"
   ]
  },
  {
   "cell_type": "markdown",
   "id": "84765b00",
   "metadata": {},
   "source": [
    "### 9. Sorting"
   ]
  },
  {
   "cell_type": "code",
   "execution_count": 49,
   "id": "210323cd",
   "metadata": {},
   "outputs": [
    {
     "data": {
      "text/html": [
       "<div>\n",
       "<style scoped>\n",
       "    .dataframe tbody tr th:only-of-type {\n",
       "        vertical-align: middle;\n",
       "    }\n",
       "\n",
       "    .dataframe tbody tr th {\n",
       "        vertical-align: top;\n",
       "    }\n",
       "\n",
       "    .dataframe thead th {\n",
       "        text-align: right;\n",
       "    }\n",
       "</style>\n",
       "<table border=\"1\" class=\"dataframe\">\n",
       "  <thead>\n",
       "    <tr style=\"text-align: right;\">\n",
       "      <th></th>\n",
       "      <th>Date</th>\n",
       "      <th>Open</th>\n",
       "      <th>High</th>\n",
       "      <th>Low</th>\n",
       "      <th>Close</th>\n",
       "      <th>Adj Close</th>\n",
       "      <th>Volume</th>\n",
       "    </tr>\n",
       "  </thead>\n",
       "  <tbody>\n",
       "    <tr>\n",
       "      <th>251</th>\n",
       "      <td>2023-12-15</td>\n",
       "      <td>34.349998</td>\n",
       "      <td>34.400002</td>\n",
       "      <td>33.599998</td>\n",
       "      <td>33.619999</td>\n",
       "      <td>33.619999</td>\n",
       "      <td>1876793</td>\n",
       "    </tr>\n",
       "    <tr>\n",
       "      <th>250</th>\n",
       "      <td>2023-12-14</td>\n",
       "      <td>35.209999</td>\n",
       "      <td>35.330002</td>\n",
       "      <td>34.417999</td>\n",
       "      <td>34.900002</td>\n",
       "      <td>34.900002</td>\n",
       "      <td>5263500</td>\n",
       "    </tr>\n",
       "    <tr>\n",
       "      <th>249</th>\n",
       "      <td>2023-12-13</td>\n",
       "      <td>33.470001</td>\n",
       "      <td>35.619999</td>\n",
       "      <td>33.400002</td>\n",
       "      <td>35.590000</td>\n",
       "      <td>35.590000</td>\n",
       "      <td>6212200</td>\n",
       "    </tr>\n",
       "    <tr>\n",
       "      <th>248</th>\n",
       "      <td>2023-12-12</td>\n",
       "      <td>32.939999</td>\n",
       "      <td>33.590000</td>\n",
       "      <td>32.810001</td>\n",
       "      <td>33.419998</td>\n",
       "      <td>33.419998</td>\n",
       "      <td>4411500</td>\n",
       "    </tr>\n",
       "    <tr>\n",
       "      <th>247</th>\n",
       "      <td>2023-12-11</td>\n",
       "      <td>33.520000</td>\n",
       "      <td>33.750000</td>\n",
       "      <td>31.930000</td>\n",
       "      <td>32.459999</td>\n",
       "      <td>32.459999</td>\n",
       "      <td>7478900</td>\n",
       "    </tr>\n",
       "    <tr>\n",
       "      <th>...</th>\n",
       "      <td>...</td>\n",
       "      <td>...</td>\n",
       "      <td>...</td>\n",
       "      <td>...</td>\n",
       "      <td>...</td>\n",
       "      <td>...</td>\n",
       "      <td>...</td>\n",
       "    </tr>\n",
       "    <tr>\n",
       "      <th>4</th>\n",
       "      <td>2022-12-21</td>\n",
       "      <td>8.000000</td>\n",
       "      <td>8.070000</td>\n",
       "      <td>7.920000</td>\n",
       "      <td>8.050000</td>\n",
       "      <td>8.050000</td>\n",
       "      <td>2538200</td>\n",
       "    </tr>\n",
       "    <tr>\n",
       "      <th>3</th>\n",
       "      <td>2022-12-20</td>\n",
       "      <td>8.125000</td>\n",
       "      <td>8.300000</td>\n",
       "      <td>7.840000</td>\n",
       "      <td>8.080000</td>\n",
       "      <td>8.080000</td>\n",
       "      <td>3390300</td>\n",
       "    </tr>\n",
       "    <tr>\n",
       "      <th>2</th>\n",
       "      <td>2022-12-19</td>\n",
       "      <td>7.935000</td>\n",
       "      <td>8.400000</td>\n",
       "      <td>7.930000</td>\n",
       "      <td>8.130000</td>\n",
       "      <td>8.130000</td>\n",
       "      <td>3558400</td>\n",
       "    </tr>\n",
       "    <tr>\n",
       "      <th>1</th>\n",
       "      <td>2022-12-16</td>\n",
       "      <td>8.055000</td>\n",
       "      <td>8.130000</td>\n",
       "      <td>7.900000</td>\n",
       "      <td>7.930000</td>\n",
       "      <td>7.930000</td>\n",
       "      <td>3795900</td>\n",
       "    </tr>\n",
       "    <tr>\n",
       "      <th>0</th>\n",
       "      <td>2022-12-15</td>\n",
       "      <td>8.210000</td>\n",
       "      <td>8.353000</td>\n",
       "      <td>8.140000</td>\n",
       "      <td>8.300000</td>\n",
       "      <td>8.300000</td>\n",
       "      <td>2934400</td>\n",
       "    </tr>\n",
       "  </tbody>\n",
       "</table>\n",
       "<p>252 rows × 7 columns</p>\n",
       "</div>"
      ],
      "text/plain": [
       "           Date       Open       High        Low      Close  Adj Close  \\\n",
       "251  2023-12-15  34.349998  34.400002  33.599998  33.619999  33.619999   \n",
       "250  2023-12-14  35.209999  35.330002  34.417999  34.900002  34.900002   \n",
       "249  2023-12-13  33.470001  35.619999  33.400002  35.590000  35.590000   \n",
       "248  2023-12-12  32.939999  33.590000  32.810001  33.419998  33.419998   \n",
       "247  2023-12-11  33.520000  33.750000  31.930000  32.459999  32.459999   \n",
       "..          ...        ...        ...        ...        ...        ...   \n",
       "4    2022-12-21   8.000000   8.070000   7.920000   8.050000   8.050000   \n",
       "3    2022-12-20   8.125000   8.300000   7.840000   8.080000   8.080000   \n",
       "2    2022-12-19   7.935000   8.400000   7.930000   8.130000   8.130000   \n",
       "1    2022-12-16   8.055000   8.130000   7.900000   7.930000   7.930000   \n",
       "0    2022-12-15   8.210000   8.353000   8.140000   8.300000   8.300000   \n",
       "\n",
       "      Volume  \n",
       "251  1876793  \n",
       "250  5263500  \n",
       "249  6212200  \n",
       "248  4411500  \n",
       "247  7478900  \n",
       "..       ...  \n",
       "4    2538200  \n",
       "3    3390300  \n",
       "2    3558400  \n",
       "1    3795900  \n",
       "0    2934400  \n",
       "\n",
       "[252 rows x 7 columns]"
      ]
     },
     "execution_count": 49,
     "metadata": {},
     "output_type": "execute_result"
    }
   ],
   "source": [
    "# sort in descending order - sorts on index\n",
    "data.sort_index(ascending=False)"
   ]
  },
  {
   "cell_type": "code",
   "execution_count": 48,
   "id": "38c08d33",
   "metadata": {},
   "outputs": [
    {
     "data": {
      "text/html": [
       "<div>\n",
       "<style scoped>\n",
       "    .dataframe tbody tr th:only-of-type {\n",
       "        vertical-align: middle;\n",
       "    }\n",
       "\n",
       "    .dataframe tbody tr th {\n",
       "        vertical-align: top;\n",
       "    }\n",
       "\n",
       "    .dataframe thead th {\n",
       "        text-align: right;\n",
       "    }\n",
       "</style>\n",
       "<table border=\"1\" class=\"dataframe\">\n",
       "  <thead>\n",
       "    <tr style=\"text-align: right;\">\n",
       "      <th></th>\n",
       "      <th>Date</th>\n",
       "      <th>Open</th>\n",
       "      <th>High</th>\n",
       "      <th>Low</th>\n",
       "      <th>Close</th>\n",
       "      <th>Adj Close</th>\n",
       "      <th>Volume</th>\n",
       "    </tr>\n",
       "  </thead>\n",
       "  <tbody>\n",
       "    <tr>\n",
       "      <th>249</th>\n",
       "      <td>2023-12-13</td>\n",
       "      <td>33.470001</td>\n",
       "      <td>35.619999</td>\n",
       "      <td>33.400002</td>\n",
       "      <td>35.590000</td>\n",
       "      <td>35.590000</td>\n",
       "      <td>6212200</td>\n",
       "    </tr>\n",
       "    <tr>\n",
       "      <th>246</th>\n",
       "      <td>2023-12-08</td>\n",
       "      <td>34.349998</td>\n",
       "      <td>35.520000</td>\n",
       "      <td>34.299999</td>\n",
       "      <td>35.509998</td>\n",
       "      <td>35.509998</td>\n",
       "      <td>3690700</td>\n",
       "    </tr>\n",
       "    <tr>\n",
       "      <th>243</th>\n",
       "      <td>2023-12-05</td>\n",
       "      <td>33.799999</td>\n",
       "      <td>36.080002</td>\n",
       "      <td>33.700001</td>\n",
       "      <td>35.099998</td>\n",
       "      <td>35.099998</td>\n",
       "      <td>8331400</td>\n",
       "    </tr>\n",
       "    <tr>\n",
       "      <th>244</th>\n",
       "      <td>2023-12-06</td>\n",
       "      <td>35.430000</td>\n",
       "      <td>36.230000</td>\n",
       "      <td>34.849998</td>\n",
       "      <td>34.919998</td>\n",
       "      <td>34.919998</td>\n",
       "      <td>5929900</td>\n",
       "    </tr>\n",
       "    <tr>\n",
       "      <th>250</th>\n",
       "      <td>2023-12-14</td>\n",
       "      <td>35.209999</td>\n",
       "      <td>35.330002</td>\n",
       "      <td>34.417999</td>\n",
       "      <td>34.900002</td>\n",
       "      <td>34.900002</td>\n",
       "      <td>5263500</td>\n",
       "    </tr>\n",
       "    <tr>\n",
       "      <th>...</th>\n",
       "      <td>...</td>\n",
       "      <td>...</td>\n",
       "      <td>...</td>\n",
       "      <td>...</td>\n",
       "      <td>...</td>\n",
       "      <td>...</td>\n",
       "      <td>...</td>\n",
       "    </tr>\n",
       "    <tr>\n",
       "      <th>4</th>\n",
       "      <td>2022-12-21</td>\n",
       "      <td>8.000000</td>\n",
       "      <td>8.070000</td>\n",
       "      <td>7.920000</td>\n",
       "      <td>8.050000</td>\n",
       "      <td>8.050000</td>\n",
       "      <td>2538200</td>\n",
       "    </tr>\n",
       "    <tr>\n",
       "      <th>9</th>\n",
       "      <td>2022-12-29</td>\n",
       "      <td>7.745000</td>\n",
       "      <td>8.040000</td>\n",
       "      <td>7.740000</td>\n",
       "      <td>7.980000</td>\n",
       "      <td>7.980000</td>\n",
       "      <td>4427700</td>\n",
       "    </tr>\n",
       "    <tr>\n",
       "      <th>1</th>\n",
       "      <td>2022-12-16</td>\n",
       "      <td>8.055000</td>\n",
       "      <td>8.130000</td>\n",
       "      <td>7.900000</td>\n",
       "      <td>7.930000</td>\n",
       "      <td>7.930000</td>\n",
       "      <td>3795900</td>\n",
       "    </tr>\n",
       "    <tr>\n",
       "      <th>7</th>\n",
       "      <td>2022-12-27</td>\n",
       "      <td>8.045000</td>\n",
       "      <td>8.200000</td>\n",
       "      <td>7.850000</td>\n",
       "      <td>7.860000</td>\n",
       "      <td>7.860000</td>\n",
       "      <td>4450000</td>\n",
       "    </tr>\n",
       "    <tr>\n",
       "      <th>8</th>\n",
       "      <td>2022-12-28</td>\n",
       "      <td>7.835000</td>\n",
       "      <td>7.970000</td>\n",
       "      <td>7.730000</td>\n",
       "      <td>7.800000</td>\n",
       "      <td>7.800000</td>\n",
       "      <td>3886100</td>\n",
       "    </tr>\n",
       "  </tbody>\n",
       "</table>\n",
       "<p>252 rows × 7 columns</p>\n",
       "</div>"
      ],
      "text/plain": [
       "           Date       Open       High        Low      Close  Adj Close  \\\n",
       "249  2023-12-13  33.470001  35.619999  33.400002  35.590000  35.590000   \n",
       "246  2023-12-08  34.349998  35.520000  34.299999  35.509998  35.509998   \n",
       "243  2023-12-05  33.799999  36.080002  33.700001  35.099998  35.099998   \n",
       "244  2023-12-06  35.430000  36.230000  34.849998  34.919998  34.919998   \n",
       "250  2023-12-14  35.209999  35.330002  34.417999  34.900002  34.900002   \n",
       "..          ...        ...        ...        ...        ...        ...   \n",
       "4    2022-12-21   8.000000   8.070000   7.920000   8.050000   8.050000   \n",
       "9    2022-12-29   7.745000   8.040000   7.740000   7.980000   7.980000   \n",
       "1    2022-12-16   8.055000   8.130000   7.900000   7.930000   7.930000   \n",
       "7    2022-12-27   8.045000   8.200000   7.850000   7.860000   7.860000   \n",
       "8    2022-12-28   7.835000   7.970000   7.730000   7.800000   7.800000   \n",
       "\n",
       "      Volume  \n",
       "249  6212200  \n",
       "246  3690700  \n",
       "243  8331400  \n",
       "244  5929900  \n",
       "250  5263500  \n",
       "..       ...  \n",
       "4    2538200  \n",
       "9    4427700  \n",
       "1    3795900  \n",
       "7    4450000  \n",
       "8    3886100  \n",
       "\n",
       "[252 rows x 7 columns]"
      ]
     },
     "execution_count": 48,
     "metadata": {},
     "output_type": "execute_result"
    }
   ],
   "source": [
    "data.sort_values(by='Close',ascending=False)"
   ]
  },
  {
   "cell_type": "code",
   "execution_count": 50,
   "id": "f5ba6649",
   "metadata": {},
   "outputs": [
    {
     "data": {
      "text/html": [
       "<div>\n",
       "<style scoped>\n",
       "    .dataframe tbody tr th:only-of-type {\n",
       "        vertical-align: middle;\n",
       "    }\n",
       "\n",
       "    .dataframe tbody tr th {\n",
       "        vertical-align: top;\n",
       "    }\n",
       "\n",
       "    .dataframe thead th {\n",
       "        text-align: right;\n",
       "    }\n",
       "</style>\n",
       "<table border=\"1\" class=\"dataframe\">\n",
       "  <thead>\n",
       "    <tr style=\"text-align: right;\">\n",
       "      <th></th>\n",
       "      <th>Adj Close</th>\n",
       "      <th>Close</th>\n",
       "      <th>Date</th>\n",
       "      <th>High</th>\n",
       "      <th>Low</th>\n",
       "      <th>Open</th>\n",
       "      <th>Volume</th>\n",
       "    </tr>\n",
       "  </thead>\n",
       "  <tbody>\n",
       "    <tr>\n",
       "      <th>0</th>\n",
       "      <td>8.300000</td>\n",
       "      <td>8.300000</td>\n",
       "      <td>2022-12-15</td>\n",
       "      <td>8.353000</td>\n",
       "      <td>8.140000</td>\n",
       "      <td>8.210000</td>\n",
       "      <td>2934400</td>\n",
       "    </tr>\n",
       "    <tr>\n",
       "      <th>1</th>\n",
       "      <td>7.930000</td>\n",
       "      <td>7.930000</td>\n",
       "      <td>2022-12-16</td>\n",
       "      <td>8.130000</td>\n",
       "      <td>7.900000</td>\n",
       "      <td>8.055000</td>\n",
       "      <td>3795900</td>\n",
       "    </tr>\n",
       "    <tr>\n",
       "      <th>2</th>\n",
       "      <td>8.130000</td>\n",
       "      <td>8.130000</td>\n",
       "      <td>2022-12-19</td>\n",
       "      <td>8.400000</td>\n",
       "      <td>7.930000</td>\n",
       "      <td>7.935000</td>\n",
       "      <td>3558400</td>\n",
       "    </tr>\n",
       "    <tr>\n",
       "      <th>3</th>\n",
       "      <td>8.080000</td>\n",
       "      <td>8.080000</td>\n",
       "      <td>2022-12-20</td>\n",
       "      <td>8.300000</td>\n",
       "      <td>7.840000</td>\n",
       "      <td>8.125000</td>\n",
       "      <td>3390300</td>\n",
       "    </tr>\n",
       "    <tr>\n",
       "      <th>4</th>\n",
       "      <td>8.050000</td>\n",
       "      <td>8.050000</td>\n",
       "      <td>2022-12-21</td>\n",
       "      <td>8.070000</td>\n",
       "      <td>7.920000</td>\n",
       "      <td>8.000000</td>\n",
       "      <td>2538200</td>\n",
       "    </tr>\n",
       "    <tr>\n",
       "      <th>...</th>\n",
       "      <td>...</td>\n",
       "      <td>...</td>\n",
       "      <td>...</td>\n",
       "      <td>...</td>\n",
       "      <td>...</td>\n",
       "      <td>...</td>\n",
       "      <td>...</td>\n",
       "    </tr>\n",
       "    <tr>\n",
       "      <th>247</th>\n",
       "      <td>32.459999</td>\n",
       "      <td>32.459999</td>\n",
       "      <td>2023-12-11</td>\n",
       "      <td>33.750000</td>\n",
       "      <td>31.930000</td>\n",
       "      <td>33.520000</td>\n",
       "      <td>7478900</td>\n",
       "    </tr>\n",
       "    <tr>\n",
       "      <th>248</th>\n",
       "      <td>33.419998</td>\n",
       "      <td>33.419998</td>\n",
       "      <td>2023-12-12</td>\n",
       "      <td>33.590000</td>\n",
       "      <td>32.810001</td>\n",
       "      <td>32.939999</td>\n",
       "      <td>4411500</td>\n",
       "    </tr>\n",
       "    <tr>\n",
       "      <th>249</th>\n",
       "      <td>35.590000</td>\n",
       "      <td>35.590000</td>\n",
       "      <td>2023-12-13</td>\n",
       "      <td>35.619999</td>\n",
       "      <td>33.400002</td>\n",
       "      <td>33.470001</td>\n",
       "      <td>6212200</td>\n",
       "    </tr>\n",
       "    <tr>\n",
       "      <th>250</th>\n",
       "      <td>34.900002</td>\n",
       "      <td>34.900002</td>\n",
       "      <td>2023-12-14</td>\n",
       "      <td>35.330002</td>\n",
       "      <td>34.417999</td>\n",
       "      <td>35.209999</td>\n",
       "      <td>5263500</td>\n",
       "    </tr>\n",
       "    <tr>\n",
       "      <th>251</th>\n",
       "      <td>33.619999</td>\n",
       "      <td>33.619999</td>\n",
       "      <td>2023-12-15</td>\n",
       "      <td>34.400002</td>\n",
       "      <td>33.599998</td>\n",
       "      <td>34.349998</td>\n",
       "      <td>1876793</td>\n",
       "    </tr>\n",
       "  </tbody>\n",
       "</table>\n",
       "<p>252 rows × 7 columns</p>\n",
       "</div>"
      ],
      "text/plain": [
       "     Adj Close      Close        Date       High        Low       Open  \\\n",
       "0     8.300000   8.300000  2022-12-15   8.353000   8.140000   8.210000   \n",
       "1     7.930000   7.930000  2022-12-16   8.130000   7.900000   8.055000   \n",
       "2     8.130000   8.130000  2022-12-19   8.400000   7.930000   7.935000   \n",
       "3     8.080000   8.080000  2022-12-20   8.300000   7.840000   8.125000   \n",
       "4     8.050000   8.050000  2022-12-21   8.070000   7.920000   8.000000   \n",
       "..         ...        ...         ...        ...        ...        ...   \n",
       "247  32.459999  32.459999  2023-12-11  33.750000  31.930000  33.520000   \n",
       "248  33.419998  33.419998  2023-12-12  33.590000  32.810001  32.939999   \n",
       "249  35.590000  35.590000  2023-12-13  35.619999  33.400002  33.470001   \n",
       "250  34.900002  34.900002  2023-12-14  35.330002  34.417999  35.209999   \n",
       "251  33.619999  33.619999  2023-12-15  34.400002  33.599998  34.349998   \n",
       "\n",
       "      Volume  \n",
       "0    2934400  \n",
       "1    3795900  \n",
       "2    3558400  \n",
       "3    3390300  \n",
       "4    2538200  \n",
       "..       ...  \n",
       "247  7478900  \n",
       "248  4411500  \n",
       "249  6212200  \n",
       "250  5263500  \n",
       "251  1876793  \n",
       "\n",
       "[252 rows x 7 columns]"
      ]
     },
     "execution_count": 50,
     "metadata": {},
     "output_type": "execute_result"
    }
   ],
   "source": [
    "# reorders columns alphabetically\n",
    "data.sort_index(axis=1)"
   ]
  },
  {
   "cell_type": "code",
   "execution_count": 57,
   "id": "5f674f91",
   "metadata": {},
   "outputs": [
    {
     "data": {
      "text/plain": [
       "3     23\n",
       "8     23\n",
       "12    22\n",
       "5     22\n",
       "10    22\n",
       "6     21\n",
       "11    21\n",
       "1     20\n",
       "7     20\n",
       "9     20\n",
       "2     19\n",
       "4     19\n",
       "Name: Date, dtype: int64"
      ]
     },
     "execution_count": 57,
     "metadata": {},
     "output_type": "execute_result"
    }
   ],
   "source": [
    "# value_counts - useful summarization method for aggregating categorical data\n",
    "change.index.month.value_counts()"
   ]
  },
  {
   "cell_type": "code",
   "execution_count": 58,
   "id": "5a465163",
   "metadata": {},
   "outputs": [],
   "source": [
    "bikes = pd.read_csv('data/Bikeshare.csv')"
   ]
  },
  {
   "cell_type": "code",
   "execution_count": 59,
   "id": "f3ea9116",
   "metadata": {},
   "outputs": [
    {
     "data": {
      "text/html": [
       "<div>\n",
       "<style scoped>\n",
       "    .dataframe tbody tr th:only-of-type {\n",
       "        vertical-align: middle;\n",
       "    }\n",
       "\n",
       "    .dataframe tbody tr th {\n",
       "        vertical-align: top;\n",
       "    }\n",
       "\n",
       "    .dataframe thead th {\n",
       "        text-align: right;\n",
       "    }\n",
       "</style>\n",
       "<table border=\"1\" class=\"dataframe\">\n",
       "  <thead>\n",
       "    <tr style=\"text-align: right;\">\n",
       "      <th></th>\n",
       "      <th>Unnamed: 0</th>\n",
       "      <th>season</th>\n",
       "      <th>mnth</th>\n",
       "      <th>day</th>\n",
       "      <th>hr</th>\n",
       "      <th>holiday</th>\n",
       "      <th>weekday</th>\n",
       "      <th>workingday</th>\n",
       "      <th>weathersit</th>\n",
       "      <th>temp</th>\n",
       "      <th>atemp</th>\n",
       "      <th>hum</th>\n",
       "      <th>windspeed</th>\n",
       "      <th>casual</th>\n",
       "      <th>registered</th>\n",
       "      <th>bikers</th>\n",
       "    </tr>\n",
       "  </thead>\n",
       "  <tbody>\n",
       "    <tr>\n",
       "      <th>0</th>\n",
       "      <td>1</td>\n",
       "      <td>1</td>\n",
       "      <td>Jan</td>\n",
       "      <td>1</td>\n",
       "      <td>0</td>\n",
       "      <td>0</td>\n",
       "      <td>6</td>\n",
       "      <td>0</td>\n",
       "      <td>clear</td>\n",
       "      <td>0.24</td>\n",
       "      <td>0.2879</td>\n",
       "      <td>0.81</td>\n",
       "      <td>0.0000</td>\n",
       "      <td>3</td>\n",
       "      <td>13</td>\n",
       "      <td>16</td>\n",
       "    </tr>\n",
       "    <tr>\n",
       "      <th>1</th>\n",
       "      <td>2</td>\n",
       "      <td>1</td>\n",
       "      <td>Jan</td>\n",
       "      <td>1</td>\n",
       "      <td>1</td>\n",
       "      <td>0</td>\n",
       "      <td>6</td>\n",
       "      <td>0</td>\n",
       "      <td>clear</td>\n",
       "      <td>0.22</td>\n",
       "      <td>0.2727</td>\n",
       "      <td>0.80</td>\n",
       "      <td>0.0000</td>\n",
       "      <td>8</td>\n",
       "      <td>32</td>\n",
       "      <td>40</td>\n",
       "    </tr>\n",
       "    <tr>\n",
       "      <th>2</th>\n",
       "      <td>3</td>\n",
       "      <td>1</td>\n",
       "      <td>Jan</td>\n",
       "      <td>1</td>\n",
       "      <td>2</td>\n",
       "      <td>0</td>\n",
       "      <td>6</td>\n",
       "      <td>0</td>\n",
       "      <td>clear</td>\n",
       "      <td>0.22</td>\n",
       "      <td>0.2727</td>\n",
       "      <td>0.80</td>\n",
       "      <td>0.0000</td>\n",
       "      <td>5</td>\n",
       "      <td>27</td>\n",
       "      <td>32</td>\n",
       "    </tr>\n",
       "    <tr>\n",
       "      <th>3</th>\n",
       "      <td>4</td>\n",
       "      <td>1</td>\n",
       "      <td>Jan</td>\n",
       "      <td>1</td>\n",
       "      <td>3</td>\n",
       "      <td>0</td>\n",
       "      <td>6</td>\n",
       "      <td>0</td>\n",
       "      <td>clear</td>\n",
       "      <td>0.24</td>\n",
       "      <td>0.2879</td>\n",
       "      <td>0.75</td>\n",
       "      <td>0.0000</td>\n",
       "      <td>3</td>\n",
       "      <td>10</td>\n",
       "      <td>13</td>\n",
       "    </tr>\n",
       "    <tr>\n",
       "      <th>4</th>\n",
       "      <td>5</td>\n",
       "      <td>1</td>\n",
       "      <td>Jan</td>\n",
       "      <td>1</td>\n",
       "      <td>4</td>\n",
       "      <td>0</td>\n",
       "      <td>6</td>\n",
       "      <td>0</td>\n",
       "      <td>clear</td>\n",
       "      <td>0.24</td>\n",
       "      <td>0.2879</td>\n",
       "      <td>0.75</td>\n",
       "      <td>0.0000</td>\n",
       "      <td>0</td>\n",
       "      <td>1</td>\n",
       "      <td>1</td>\n",
       "    </tr>\n",
       "    <tr>\n",
       "      <th>...</th>\n",
       "      <td>...</td>\n",
       "      <td>...</td>\n",
       "      <td>...</td>\n",
       "      <td>...</td>\n",
       "      <td>...</td>\n",
       "      <td>...</td>\n",
       "      <td>...</td>\n",
       "      <td>...</td>\n",
       "      <td>...</td>\n",
       "      <td>...</td>\n",
       "      <td>...</td>\n",
       "      <td>...</td>\n",
       "      <td>...</td>\n",
       "      <td>...</td>\n",
       "      <td>...</td>\n",
       "      <td>...</td>\n",
       "    </tr>\n",
       "    <tr>\n",
       "      <th>8640</th>\n",
       "      <td>8641</td>\n",
       "      <td>1</td>\n",
       "      <td>Dec</td>\n",
       "      <td>365</td>\n",
       "      <td>19</td>\n",
       "      <td>0</td>\n",
       "      <td>6</td>\n",
       "      <td>0</td>\n",
       "      <td>clear</td>\n",
       "      <td>0.42</td>\n",
       "      <td>0.4242</td>\n",
       "      <td>0.54</td>\n",
       "      <td>0.2239</td>\n",
       "      <td>19</td>\n",
       "      <td>73</td>\n",
       "      <td>92</td>\n",
       "    </tr>\n",
       "    <tr>\n",
       "      <th>8641</th>\n",
       "      <td>8642</td>\n",
       "      <td>1</td>\n",
       "      <td>Dec</td>\n",
       "      <td>365</td>\n",
       "      <td>20</td>\n",
       "      <td>0</td>\n",
       "      <td>6</td>\n",
       "      <td>0</td>\n",
       "      <td>clear</td>\n",
       "      <td>0.42</td>\n",
       "      <td>0.4242</td>\n",
       "      <td>0.54</td>\n",
       "      <td>0.2239</td>\n",
       "      <td>8</td>\n",
       "      <td>63</td>\n",
       "      <td>71</td>\n",
       "    </tr>\n",
       "    <tr>\n",
       "      <th>8642</th>\n",
       "      <td>8643</td>\n",
       "      <td>1</td>\n",
       "      <td>Dec</td>\n",
       "      <td>365</td>\n",
       "      <td>21</td>\n",
       "      <td>0</td>\n",
       "      <td>6</td>\n",
       "      <td>0</td>\n",
       "      <td>clear</td>\n",
       "      <td>0.40</td>\n",
       "      <td>0.4091</td>\n",
       "      <td>0.58</td>\n",
       "      <td>0.1940</td>\n",
       "      <td>2</td>\n",
       "      <td>50</td>\n",
       "      <td>52</td>\n",
       "    </tr>\n",
       "    <tr>\n",
       "      <th>8643</th>\n",
       "      <td>8644</td>\n",
       "      <td>1</td>\n",
       "      <td>Dec</td>\n",
       "      <td>365</td>\n",
       "      <td>22</td>\n",
       "      <td>0</td>\n",
       "      <td>6</td>\n",
       "      <td>0</td>\n",
       "      <td>clear</td>\n",
       "      <td>0.38</td>\n",
       "      <td>0.3939</td>\n",
       "      <td>0.62</td>\n",
       "      <td>0.1343</td>\n",
       "      <td>2</td>\n",
       "      <td>36</td>\n",
       "      <td>38</td>\n",
       "    </tr>\n",
       "    <tr>\n",
       "      <th>8644</th>\n",
       "      <td>8645</td>\n",
       "      <td>1</td>\n",
       "      <td>Dec</td>\n",
       "      <td>365</td>\n",
       "      <td>23</td>\n",
       "      <td>0</td>\n",
       "      <td>6</td>\n",
       "      <td>0</td>\n",
       "      <td>clear</td>\n",
       "      <td>0.36</td>\n",
       "      <td>0.3788</td>\n",
       "      <td>0.66</td>\n",
       "      <td>0.0000</td>\n",
       "      <td>4</td>\n",
       "      <td>27</td>\n",
       "      <td>31</td>\n",
       "    </tr>\n",
       "  </tbody>\n",
       "</table>\n",
       "<p>8645 rows × 16 columns</p>\n",
       "</div>"
      ],
      "text/plain": [
       "      Unnamed: 0  season mnth  day  hr  holiday  weekday  workingday  \\\n",
       "0              1       1  Jan    1   0        0        6           0   \n",
       "1              2       1  Jan    1   1        0        6           0   \n",
       "2              3       1  Jan    1   2        0        6           0   \n",
       "3              4       1  Jan    1   3        0        6           0   \n",
       "4              5       1  Jan    1   4        0        6           0   \n",
       "...          ...     ...  ...  ...  ..      ...      ...         ...   \n",
       "8640        8641       1  Dec  365  19        0        6           0   \n",
       "8641        8642       1  Dec  365  20        0        6           0   \n",
       "8642        8643       1  Dec  365  21        0        6           0   \n",
       "8643        8644       1  Dec  365  22        0        6           0   \n",
       "8644        8645       1  Dec  365  23        0        6           0   \n",
       "\n",
       "     weathersit  temp   atemp   hum  windspeed  casual  registered  bikers  \n",
       "0         clear  0.24  0.2879  0.81     0.0000       3          13      16  \n",
       "1         clear  0.22  0.2727  0.80     0.0000       8          32      40  \n",
       "2         clear  0.22  0.2727  0.80     0.0000       5          27      32  \n",
       "3         clear  0.24  0.2879  0.75     0.0000       3          10      13  \n",
       "4         clear  0.24  0.2879  0.75     0.0000       0           1       1  \n",
       "...         ...   ...     ...   ...        ...     ...         ...     ...  \n",
       "8640      clear  0.42  0.4242  0.54     0.2239      19          73      92  \n",
       "8641      clear  0.42  0.4242  0.54     0.2239       8          63      71  \n",
       "8642      clear  0.40  0.4091  0.58     0.1940       2          50      52  \n",
       "8643      clear  0.38  0.3939  0.62     0.1343       2          36      38  \n",
       "8644      clear  0.36  0.3788  0.66     0.0000       4          27      31  \n",
       "\n",
       "[8645 rows x 16 columns]"
      ]
     },
     "execution_count": 59,
     "metadata": {},
     "output_type": "execute_result"
    }
   ],
   "source": [
    "bikes"
   ]
  },
  {
   "cell_type": "code",
   "execution_count": 61,
   "id": "fe88cbc9",
   "metadata": {},
   "outputs": [
    {
     "data": {
      "text/plain": [
       "clear              5645\n",
       "cloudy/misty       2218\n",
       "light rain/snow     781\n",
       "heavy rain/snow       1\n",
       "Name: weathersit, dtype: int64"
      ]
     },
     "execution_count": 61,
     "metadata": {},
     "output_type": "execute_result"
    }
   ],
   "source": [
    "bikes.weathersit.value_counts()"
   ]
  },
  {
   "cell_type": "code",
   "execution_count": 63,
   "id": "4bb9358a",
   "metadata": {},
   "outputs": [
    {
     "data": {
      "text/html": [
       "<div>\n",
       "<style scoped>\n",
       "    .dataframe tbody tr th:only-of-type {\n",
       "        vertical-align: middle;\n",
       "    }\n",
       "\n",
       "    .dataframe tbody tr th {\n",
       "        vertical-align: top;\n",
       "    }\n",
       "\n",
       "    .dataframe thead th {\n",
       "        text-align: right;\n",
       "    }\n",
       "</style>\n",
       "<table border=\"1\" class=\"dataframe\">\n",
       "  <thead>\n",
       "    <tr style=\"text-align: right;\">\n",
       "      <th></th>\n",
       "      <th>Unnamed: 0</th>\n",
       "      <th>season</th>\n",
       "      <th>mnth</th>\n",
       "      <th>day</th>\n",
       "      <th>hr</th>\n",
       "      <th>holiday</th>\n",
       "      <th>weekday</th>\n",
       "      <th>workingday</th>\n",
       "      <th>weathersit</th>\n",
       "      <th>temp</th>\n",
       "      <th>atemp</th>\n",
       "      <th>hum</th>\n",
       "      <th>windspeed</th>\n",
       "      <th>casual</th>\n",
       "      <th>registered</th>\n",
       "      <th>bikers</th>\n",
       "    </tr>\n",
       "  </thead>\n",
       "  <tbody>\n",
       "    <tr>\n",
       "      <th>585</th>\n",
       "      <td>586</td>\n",
       "      <td>1</td>\n",
       "      <td>Jan</td>\n",
       "      <td>26</td>\n",
       "      <td>16</td>\n",
       "      <td>0</td>\n",
       "      <td>3</td>\n",
       "      <td>1</td>\n",
       "      <td>heavy rain/snow</td>\n",
       "      <td>0.22</td>\n",
       "      <td>0.197</td>\n",
       "      <td>0.93</td>\n",
       "      <td>0.3284</td>\n",
       "      <td>1</td>\n",
       "      <td>35</td>\n",
       "      <td>36</td>\n",
       "    </tr>\n",
       "  </tbody>\n",
       "</table>\n",
       "</div>"
      ],
      "text/plain": [
       "     Unnamed: 0  season mnth  day  hr  holiday  weekday  workingday  \\\n",
       "585         586       1  Jan   26  16        0        3           1   \n",
       "\n",
       "          weathersit  temp  atemp   hum  windspeed  casual  registered  bikers  \n",
       "585  heavy rain/snow  0.22  0.197  0.93     0.3284       1          35      36  "
      ]
     },
     "execution_count": 63,
     "metadata": {},
     "output_type": "execute_result"
    }
   ],
   "source": [
    "# subset or filtering data\n",
    "bikes[bikes['weathersit'] == 'heavy rain/snow']"
   ]
  },
  {
   "cell_type": "code",
   "execution_count": 65,
   "id": "1a2197f9",
   "metadata": {},
   "outputs": [
    {
     "data": {
      "image/png": "[encoded data removed]",
      "text/plain": [
       "<Figure size 640x480 with 1 Axes>"
      ]
     },
     "metadata": {},
     "output_type": "display_data"
    }
   ],
   "source": [
    "bikes.weathersit.value_counts().plot(kind='bar');"
   ]
  },
  {
   "cell_type": "code",
   "execution_count": 72,
   "id": "09fd8f4c",
   "metadata": {},
   "outputs": [
    {
     "data": {
      "text/plain": [
       "clear              0.652979\n",
       "cloudy/misty       0.256564\n",
       "light rain/snow    0.090341\n",
       "heavy rain/snow    0.000116\n",
       "Name: weathersit, dtype: float64"
      ]
     },
     "execution_count": 72,
     "metadata": {},
     "output_type": "execute_result"
    }
   ],
   "source": [
    "bikes.weathersit.value_counts() / len(bikes)"
   ]
  },
  {
   "cell_type": "code",
   "execution_count": null,
   "id": "59b5cb1f",
   "metadata": {},
   "outputs": [],
   "source": [
    "bikes.groupby(by='weekday').median(numeric_only=True)"
   ]
  },
  {
   "cell_type": "code",
   "execution_count": null,
   "id": "e1146fa1",
   "metadata": {},
   "outputs": [],
   "source": []
  },
  {
   "cell_type": "code",
   "execution_count": null,
   "id": "f56a5098",
   "metadata": {},
   "outputs": [],
   "source": []
  },
  {
   "cell_type": "code",
   "execution_count": null,
   "id": "24f44a24",
   "metadata": {},
   "outputs": [],
   "source": []
  }
 ],
 "metadata": {
  "kernelspec": {
   "display_name": "Python 3 (ipykernel)",
   "language": "python",
   "name": "python3"
  },
  "language_info": {
   "codemirror_mode": {
    "name": "ipython",
    "version": 3
   },
   "file_extension": ".py",
   "mimetype": "text/x-python",
   "name": "python",
   "nbconvert_exporter": "python",
   "pygments_lexer": "ipython3",
   "version": "3.11.3"
  }
 },
 "nbformat": 4,
 "nbformat_minor": 5
}
