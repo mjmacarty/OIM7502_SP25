{
 "cells": [
  {
   "cell_type": "markdown",
   "id": "e8e154a9",
   "metadata": {},
   "source": [
    "# Introduction to pandas\n",
    "* The premier data science library\n",
    "* The name pandas derives from panel data \n",
    "* Has two main objects : DataFrame, Series\n",
    "* Is a wrapper around, among other libraries, NumPy and matplotlib\n",
    "* Series is a vector of data with an index\n",
    "* DataFrame is a collection of Series with a single index (columns are also an index)\n",
    "* Was developed by a quant working for a hedge fund, long since semi-retired by the age of about 27\n"
   ]
  },
  {
   "cell_type": "code",
   "execution_count": 1,
   "id": "d0586696",
   "metadata": {},
   "outputs": [],
   "source": [
    "import matplotlib as plt\n",
    "import numpy as np\n",
    "import numpy.random as npr\n",
    "import pandas as pd"
   ]
  },
  {
   "cell_type": "code",
   "execution_count": 6,
   "id": "85659a67",
   "metadata": {},
   "outputs": [
    {
     "name": "stdout",
     "output_type": "stream",
     "text": [
      "1.5.3\n",
      "1.24.3\n",
      "3.7.1\n"
     ]
    }
   ],
   "source": [
    "print(pd.__version__)\n",
    "print(np.__version__)\n",
    "print(plt.__version__)"
   ]
  },
  {
   "cell_type": "markdown",
   "id": "67835cf6",
   "metadata": {},
   "source": [
    "### 1. make a Series"
   ]
  },
  {
   "cell_type": "code",
   "execution_count": null,
   "id": "70856078",
   "metadata": {},
   "outputs": [],
   "source": []
  },
  {
   "cell_type": "code",
   "execution_count": null,
   "id": "ec0da83e",
   "metadata": {},
   "outputs": [],
   "source": []
  },
  {
   "cell_type": "code",
   "execution_count": null,
   "id": "cfca51c6",
   "metadata": {},
   "outputs": [],
   "source": []
  },
  {
   "cell_type": "code",
   "execution_count": null,
   "id": "a43d5419",
   "metadata": {},
   "outputs": [],
   "source": []
  },
  {
   "cell_type": "code",
   "execution_count": null,
   "id": "bd9fa612",
   "metadata": {},
   "outputs": [],
   "source": []
  },
  {
   "cell_type": "markdown",
   "id": "d98eb274",
   "metadata": {},
   "source": [
    "### 2. make a DataFrame"
   ]
  },
  {
   "cell_type": "code",
   "execution_count": null,
   "id": "b3e8dad1",
   "metadata": {},
   "outputs": [],
   "source": []
  },
  {
   "cell_type": "code",
   "execution_count": null,
   "id": "dc23d2c8",
   "metadata": {},
   "outputs": [],
   "source": []
  },
  {
   "cell_type": "code",
   "execution_count": 21,
   "id": "1516287d",
   "metadata": {},
   "outputs": [],
   "source": []
  },
  {
   "cell_type": "code",
   "execution_count": null,
   "id": "42eda0df",
   "metadata": {},
   "outputs": [],
   "source": []
  },
  {
   "cell_type": "code",
   "execution_count": null,
   "id": "a89930df",
   "metadata": {},
   "outputs": [],
   "source": []
  },
  {
   "cell_type": "code",
   "execution_count": null,
   "id": "3da661d6",
   "metadata": {},
   "outputs": [],
   "source": []
  },
  {
   "cell_type": "code",
   "execution_count": null,
   "id": "ecc48d97",
   "metadata": {},
   "outputs": [],
   "source": []
  },
  {
   "cell_type": "code",
   "execution_count": null,
   "id": "c51d1e88",
   "metadata": {},
   "outputs": [],
   "source": []
  },
  {
   "cell_type": "code",
   "execution_count": null,
   "id": "aa7bd1e2",
   "metadata": {},
   "outputs": [],
   "source": []
  },
  {
   "cell_type": "code",
   "execution_count": null,
   "id": "90cb950e",
   "metadata": {},
   "outputs": [],
   "source": []
  },
  {
   "cell_type": "code",
   "execution_count": null,
   "id": "eee022e1",
   "metadata": {},
   "outputs": [],
   "source": []
  },
  {
   "cell_type": "code",
   "execution_count": null,
   "id": "f30621a3",
   "metadata": {},
   "outputs": [],
   "source": []
  },
  {
   "cell_type": "code",
   "execution_count": 35,
   "id": "4e1e76ae",
   "metadata": {},
   "outputs": [],
   "source": []
  },
  {
   "cell_type": "code",
   "execution_count": null,
   "id": "fb2719c5",
   "metadata": {},
   "outputs": [],
   "source": []
  },
  {
   "cell_type": "code",
   "execution_count": null,
   "id": "13f02b93",
   "metadata": {},
   "outputs": [],
   "source": []
  },
  {
   "cell_type": "code",
   "execution_count": 14,
   "id": "460ae134",
   "metadata": {},
   "outputs": [],
   "source": []
  },
  {
   "cell_type": "code",
   "execution_count": null,
   "id": "2c1c131a",
   "metadata": {},
   "outputs": [],
   "source": []
  },
  {
   "cell_type": "markdown",
   "id": "dc5aff70",
   "metadata": {},
   "source": [
    "### 3. Dates and Indexes"
   ]
  },
  {
   "cell_type": "code",
   "execution_count": null,
   "id": "6af39a7d",
   "metadata": {},
   "outputs": [],
   "source": []
  },
  {
   "cell_type": "code",
   "execution_count": null,
   "id": "516aa5f1",
   "metadata": {},
   "outputs": [],
   "source": []
  },
  {
   "cell_type": "code",
   "execution_count": 42,
   "id": "569b178f",
   "metadata": {},
   "outputs": [],
   "source": []
  },
  {
   "cell_type": "code",
   "execution_count": null,
   "id": "06eee5d4",
   "metadata": {},
   "outputs": [],
   "source": []
  },
  {
   "cell_type": "code",
   "execution_count": 3,
   "id": "ac7dde8f",
   "metadata": {},
   "outputs": [],
   "source": [
    "# need to give pandas an aggregate function, i.e. mean, std, first, last\n"
   ]
  },
  {
   "cell_type": "code",
   "execution_count": 80,
   "id": "eb427a6a",
   "metadata": {},
   "outputs": [],
   "source": [
    "# M, BM, MS, BMS\n"
   ]
  },
  {
   "cell_type": "code",
   "execution_count": 81,
   "id": "f0c5748e",
   "metadata": {},
   "outputs": [],
   "source": [
    "# be careful with resampling\n"
   ]
  },
  {
   "cell_type": "markdown",
   "id": "3838de3f",
   "metadata": {},
   "source": [
    "### 4. Slicing index loc vs. iloc"
   ]
  },
  {
   "cell_type": "code",
   "execution_count": null,
   "id": "d81736ea",
   "metadata": {},
   "outputs": [],
   "source": []
  },
  {
   "cell_type": "code",
   "execution_count": null,
   "id": "69a328bb",
   "metadata": {},
   "outputs": [],
   "source": []
  },
  {
   "cell_type": "code",
   "execution_count": null,
   "id": "e466a661",
   "metadata": {},
   "outputs": [],
   "source": []
  },
  {
   "cell_type": "markdown",
   "id": "61dac206",
   "metadata": {},
   "source": [
    "### 5. Slicing columns (columns a second index in DataFrames)"
   ]
  },
  {
   "cell_type": "code",
   "execution_count": 82,
   "id": "9b60eba6",
   "metadata": {},
   "outputs": [],
   "source": [
    "# or data['Close']\n"
   ]
  },
  {
   "cell_type": "code",
   "execution_count": null,
   "id": "076dc9ee",
   "metadata": {},
   "outputs": [],
   "source": []
  },
  {
   "cell_type": "code",
   "execution_count": null,
   "id": "30196ff4",
   "metadata": {},
   "outputs": [],
   "source": []
  },
  {
   "cell_type": "code",
   "execution_count": 83,
   "id": "b6240a63",
   "metadata": {},
   "outputs": [],
   "source": [
    "# reorders columns alphabetically\n"
   ]
  },
  {
   "cell_type": "markdown",
   "id": "e2d50dd9",
   "metadata": {},
   "source": [
    "### 6. Renaming columns"
   ]
  },
  {
   "cell_type": "code",
   "execution_count": null,
   "id": "05d5f146",
   "metadata": {},
   "outputs": [],
   "source": []
  },
  {
   "cell_type": "code",
   "execution_count": 84,
   "id": "7f78e1fb",
   "metadata": {},
   "outputs": [],
   "source": [
    "# what gives? \n"
   ]
  },
  {
   "cell_type": "markdown",
   "id": "f5aef3fd",
   "metadata": {},
   "source": [
    "### 7. Reordering columns"
   ]
  },
  {
   "cell_type": "code",
   "execution_count": null,
   "id": "da972628",
   "metadata": {},
   "outputs": [],
   "source": []
  },
  {
   "cell_type": "code",
   "execution_count": null,
   "id": "850c7078",
   "metadata": {},
   "outputs": [],
   "source": []
  },
  {
   "cell_type": "markdown",
   "id": "ce136844",
   "metadata": {},
   "source": [
    "### 8. Removing columns or rows"
   ]
  },
  {
   "cell_type": "code",
   "execution_count": 85,
   "id": "fc115afa",
   "metadata": {},
   "outputs": [],
   "source": [
    "# set inplace=True to drop the column from original dataset\n"
   ]
  },
  {
   "cell_type": "code",
   "execution_count": null,
   "id": "92fb6c69",
   "metadata": {},
   "outputs": [],
   "source": []
  },
  {
   "cell_type": "markdown",
   "id": "5662b278",
   "metadata": {},
   "source": [
    "### 9. Sorting"
   ]
  },
  {
   "cell_type": "code",
   "execution_count": 4,
   "id": "210323cd",
   "metadata": {},
   "outputs": [],
   "source": [
    "# sort in descending order - sorts on index\n"
   ]
  },
  {
   "cell_type": "code",
   "execution_count": null,
   "id": "38c08d33",
   "metadata": {},
   "outputs": [],
   "source": []
  },
  {
   "cell_type": "code",
   "execution_count": 5,
   "id": "f5ba6649",
   "metadata": {},
   "outputs": [],
   "source": [
    "# reorders columns alphabetically\n"
   ]
  },
  {
   "cell_type": "code",
   "execution_count": 6,
   "id": "0e6f3dd9",
   "metadata": {},
   "outputs": [],
   "source": [
    "# value_counts - useful summarization method for aggregating categorical data\n"
   ]
  },
  {
   "cell_type": "code",
   "execution_count": 68,
   "id": "2f01a1be",
   "metadata": {},
   "outputs": [],
   "source": []
  },
  {
   "cell_type": "code",
   "execution_count": null,
   "id": "eee4b6bc",
   "metadata": {},
   "outputs": [],
   "source": []
  },
  {
   "cell_type": "code",
   "execution_count": null,
   "id": "e4318968",
   "metadata": {},
   "outputs": [],
   "source": []
  },
  {
   "cell_type": "code",
   "execution_count": null,
   "id": "21288bc4",
   "metadata": {},
   "outputs": [],
   "source": []
  },
  {
   "cell_type": "code",
   "execution_count": null,
   "id": "976c878c",
   "metadata": {},
   "outputs": [],
   "source": []
  },
  {
   "cell_type": "code",
   "execution_count": null,
   "id": "20d93842",
   "metadata": {},
   "outputs": [],
   "source": []
  },
  {
   "cell_type": "code",
   "execution_count": null,
   "id": "1d2a7d0d",
   "metadata": {},
   "outputs": [],
   "source": []
  }
 ],
 "metadata": {
  "kernelspec": {
   "display_name": "base",
   "language": "python",
   "name": "python3"
  },
  "language_info": {
   "codemirror_mode": {
    "name": "ipython",
    "version": 3
   },
   "file_extension": ".py",
   "mimetype": "text/x-python",
   "name": "python",
   "nbconvert_exporter": "python",
   "pygments_lexer": "ipython3",
   "version": "3.12.7"
  }
 },
 "nbformat": 4,
 "nbformat_minor": 5
}
