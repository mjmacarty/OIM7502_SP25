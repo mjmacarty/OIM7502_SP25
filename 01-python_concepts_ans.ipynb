{
 "cells": [
  {
   "cell_type": "markdown",
   "id": "9383bafa",
   "metadata": {},
   "source": [
    "### Python Programming Concepts"
   ]
  },
  {
   "cell_type": "markdown",
   "id": "17df7d6e",
   "metadata": {},
   "source": [
    "#### 1. Create a variable to store the value 500 for sales"
   ]
  },
  {
   "cell_type": "code",
   "execution_count": 4,
   "id": "a5f43c2f",
   "metadata": {},
   "outputs": [
    {
     "data": {
      "text/plain": [
       "500"
      ]
     },
     "execution_count": 4,
     "metadata": {},
     "output_type": "execute_result"
    }
   ],
   "source": [
    "sales = 500\n",
    "sales"
   ]
  },
  {
   "cell_type": "markdown",
   "id": "6dc8b9ea",
   "metadata": {},
   "source": [
    "#### 2. Create a variable to store several values:  \n",
    "* sales: 500, 475, 625\n",
    "* integers 1 - 9 "
   ]
  },
  {
   "cell_type": "code",
   "execution_count": 3,
   "id": "902fe3bd",
   "metadata": {},
   "outputs": [
    {
     "name": "stdout",
     "output_type": "stream",
     "text": [
      "[500, 475, 625]\n",
      "[1, 2, 3, 4, 5, 6, 7, 8, 9]\n"
     ]
    }
   ],
   "source": [
    "sales = [500,475,625]\n",
    "integers = list(range(1,10))\n",
    "print(sales)\n",
    "print(integers)"
   ]
  },
  {
   "cell_type": "markdown",
   "id": "62e55953",
   "metadata": {},
   "source": [
    "#### 3. Create a variable to store the names and email addresses for a number of customers\n",
    "* John, john@some.com; Ann, ann@some.com"
   ]
  },
  {
   "cell_type": "code",
   "execution_count": 1,
   "id": "03f2b161",
   "metadata": {},
   "outputs": [
    {
     "data": {
      "text/plain": [
       "dict_keys(['name', 'email'])"
      ]
     },
     "execution_count": 1,
     "metadata": {},
     "output_type": "execute_result"
    }
   ],
   "source": [
    "customers = [{'name': 'John', 'email': 'john@some.com'}, {'name': 'Ann', 'email': 'ann@some.com'}]\n",
    "customers[0].keys()\n",
    "             "
   ]
  },
  {
   "cell_type": "markdown",
   "id": "d6b1e8c6",
   "metadata": {},
   "source": [
    "#### 4. Use Python to generate a random value based on each of following:\n",
    "1. between 0 and 1\n",
    "2. the standard normal distribution (rounded to two decimal places)\n",
    "3. a value between 1 and 10\n",
    "4. either H or T"
   ]
  },
  {
   "cell_type": "code",
   "execution_count": 13,
   "id": "f004d7b5",
   "metadata": {},
   "outputs": [],
   "source": [
    "import random"
   ]
  },
  {
   "cell_type": "code",
   "execution_count": 14,
   "id": "a8efc6fc",
   "metadata": {},
   "outputs": [
    {
     "data": {
      "text/plain": [
       "0.13061994485182782"
      ]
     },
     "execution_count": 14,
     "metadata": {},
     "output_type": "execute_result"
    }
   ],
   "source": [
    "random.random()"
   ]
  },
  {
   "cell_type": "code",
   "execution_count": 15,
   "id": "1a29e601",
   "metadata": {},
   "outputs": [
    {
     "data": {
      "text/plain": [
       "0.2"
      ]
     },
     "execution_count": 15,
     "metadata": {},
     "output_type": "execute_result"
    }
   ],
   "source": [
    "round(random.normalvariate(),2)"
   ]
  },
  {
   "cell_type": "code",
   "execution_count": 16,
   "id": "3a150c3e",
   "metadata": {},
   "outputs": [
    {
     "data": {
      "text/plain": [
       "4"
      ]
     },
     "execution_count": 16,
     "metadata": {},
     "output_type": "execute_result"
    }
   ],
   "source": [
    "random.randint(1,10)"
   ]
  },
  {
   "cell_type": "code",
   "execution_count": 17,
   "id": "f80f4b3b",
   "metadata": {},
   "outputs": [
    {
     "data": {
      "text/plain": [
       "'H'"
      ]
     },
     "execution_count": 17,
     "metadata": {},
     "output_type": "execute_result"
    }
   ],
   "source": [
    "random.choice('HT')"
   ]
  },
  {
   "cell_type": "code",
   "execution_count": 18,
   "id": "bdb52b86",
   "metadata": {},
   "outputs": [
    {
     "data": {
      "text/plain": [
       "'TTTHHTTTTH'"
      ]
     },
     "execution_count": 18,
     "metadata": {},
     "output_type": "execute_result"
    }
   ],
   "source": [
    "flips =''\n",
    "for i in range(10):\n",
    "    flips += random.choice('HT')\n",
    "flips    "
   ]
  },
  {
   "cell_type": "markdown",
   "id": "7eddf06a",
   "metadata": {},
   "source": [
    "#### 5. Use Python to determine your current working directory"
   ]
  },
  {
   "cell_type": "code",
   "execution_count": 19,
   "id": "d8f79474",
   "metadata": {},
   "outputs": [
    {
     "data": {
      "text/plain": [
       "'/Users/mjmacarty/OneDrive/Babson/OIM7502/git_files/staging'"
      ]
     },
     "execution_count": 19,
     "metadata": {},
     "output_type": "execute_result"
    }
   ],
   "source": [
    "import os\n",
    "os.getcwd()"
   ]
  },
  {
   "cell_type": "markdown",
   "id": "fc43ec50",
   "metadata": {},
   "source": [
    "#### 6. Use Python to determine how many days until New Year's Day"
   ]
  },
  {
   "cell_type": "code",
   "execution_count": 20,
   "id": "13f630fe",
   "metadata": {},
   "outputs": [
    {
     "data": {
      "text/plain": [
       "datetime.timedelta(days=19)"
      ]
     },
     "execution_count": 20,
     "metadata": {},
     "output_type": "execute_result"
    }
   ],
   "source": [
    "import datetime as dt\n",
    "today = dt.date.today()\n",
    "nyd = dt.date(2024,1,1)\n",
    "nyd - today\n"
   ]
  },
  {
   "cell_type": "markdown",
   "id": "2ba4ea92",
   "metadata": {},
   "source": [
    "#### 7. Write a short program that displays the future value of 1,000 earning 5%  at the end of each year for the next 5 years"
   ]
  },
  {
   "cell_type": "code",
   "execution_count": 33,
   "id": "6fef4a8c",
   "metadata": {},
   "outputs": [
    {
     "name": "stdout",
     "output_type": "stream",
     "text": [
      "Year         Balance\n",
      "--------------------\n",
      "0             $1,000\n",
      "1             $1,050\n",
      "2             $1,102\n",
      "3             $1,158\n",
      "4             $1,216\n",
      "5             $1,276\n"
     ]
    }
   ],
   "source": [
    "pv = 1000\n",
    "r = .05\n",
    "print(f\"{'Year':<13}{'Balance'}\")\n",
    "print('-' * 20)\n",
    "for year in range(6):\n",
    "    print(f\"{year:<14d}${pv:,.0f}\")\n",
    "    pv *= (1+r) "
   ]
  },
  {
   "cell_type": "markdown",
   "id": "150201c8",
   "metadata": {},
   "source": [
    "#### 8. Write a short program that prompts a user to enter a stock symbol and press enter. Add each symbol entered to a variable. The program should run until the user presses the enter key without entering anything (empty string) "
   ]
  },
  {
   "cell_type": "code",
   "execution_count": 35,
   "id": "931a346f",
   "metadata": {},
   "outputs": [
    {
     "name": "stdout",
     "output_type": "stream",
     "text": [
      "Enter a stock symbol or press enter to quitAAPl\n",
      "Enter a stock symbol or press enter to quitIBM\n",
      "Enter a stock symbol or press enter to quitNVDA\n",
      "Enter a stock symbol or press enter to quit\n",
      "['AAPl', 'IBM', 'NVDA']\n"
     ]
    }
   ],
   "source": [
    "stocks =[] \n",
    "while True:\n",
    "    symbol = input('Enter a stock symbol or press enter to quit: ')\n",
    "    if symbol == '':\n",
    "        break\n",
    "    else:\n",
    "        stocks.append(symbol)\n",
    "print(stocks)        "
   ]
  },
  {
   "cell_type": "markdown",
   "id": "fc2a7592",
   "metadata": {},
   "source": [
    "#### 9. Write the code necessary to calculate the sum of the square differences of a group of values : \n",
    "58, 32, 37, 41, 36, 36, 54, 37, 25, 53\n",
    "##### $\\Sigma $(${x}$ - $\\bar{x}$)$^2$"
   ]
  },
  {
   "cell_type": "code",
   "execution_count": 42,
   "id": "09f28a71",
   "metadata": {},
   "outputs": [
    {
     "name": "stdout",
     "output_type": "stream",
     "text": [
      "Mean: 40.90\n",
      "Sum of Squares: 1020.90\n",
      "Variance: 113.43\n",
      "St Dev.: 10.65\n"
     ]
    }
   ],
   "source": [
    "values = [58, 32, 37, 41, 36, 36, 54, 37, 25, 53]\n",
    "\n",
    "mean = sum(values)/len(values)\n",
    "print(f\"Mean: {mean:.2f}\")\n",
    "\n",
    "SS =sum([(x-mean) ** 2 for x in values])\n",
    "print(f\"Sum of Squares: {SS:.2f}\")\n",
    "var = SS / (len(values) -1)\n",
    "std = var ** .5\n",
    "print(f\"Variance: {var:.2f}\")\n",
    "print(f\"St Dev.: {std:.2f}\")"
   ]
  },
  {
   "cell_type": "markdown",
   "id": "6d6f2e64",
   "metadata": {},
   "source": [
    "#### 10. Opening, reading and writing files"
   ]
  },
  {
   "cell_type": "code",
   "execution_count": null,
   "id": "81c7bf62",
   "metadata": {},
   "outputs": [],
   "source": [
    "file = open('data/desolation_row.txt')\n",
    "file.readlines()\n"
   ]
  },
  {
   "cell_type": "markdown",
   "id": "eec548d6",
   "metadata": {},
   "source": [
    "#### 11. Create a function the will simulate rolling two die and return the value of each and and the sum "
   ]
  },
  {
   "cell_type": "code",
   "execution_count": 49,
   "id": "bb115cdc",
   "metadata": {},
   "outputs": [
    {
     "name": "stdout",
     "output_type": "stream",
     "text": [
      "(3, 2, 5)\n"
     ]
    }
   ],
   "source": [
    "def dice_roller():\n",
    "    first_die = random.randint(1,6)\n",
    "    second_die = random.randint(1,6)\n",
    "    return first_die, second_die, first_die + second_die\n",
    "\n",
    "print(dice_roller())\n",
    "    "
   ]
  },
  {
   "cell_type": "markdown",
   "id": "21556d7f",
   "metadata": {},
   "source": [
    "#### 12. Write the code needed to evaluate whether a value in a group of values is negative or postive and prints an approriate message, i.e. postive, negative \n",
    "-1.59, 2.36, 1.69, 1.13, -0.91, 1.48, -0.34, 1.31, -0.74, 0.2"
   ]
  },
  {
   "cell_type": "code",
   "execution_count": 51,
   "id": "d6c38ecb",
   "metadata": {},
   "outputs": [
    {
     "data": {
      "text/plain": [
       "['Down', 'Up', 'Up', 'Up', 'Down', 'Up', 'Down', 'Up', 'Down', 'Up']"
      ]
     },
     "execution_count": 51,
     "metadata": {},
     "output_type": "execute_result"
    }
   ],
   "source": [
    "values = [-1.59, 2.36, 1.69, 1.13, -0.91, 1.48, -0.34, 1.31, -0.74, 0.2]\n",
    "\n",
    "direction = [\"Up\" if x > 0 else \"Down\" for x in values]\n",
    "direction"
   ]
  },
  {
   "cell_type": "code",
   "execution_count": null,
   "id": "aaefba17",
   "metadata": {},
   "outputs": [],
   "source": []
  },
  {
   "cell_type": "markdown",
   "id": "8cafe65c",
   "metadata": {},
   "source": [
    "#### 14.  Complete the following:\n",
    "1. Write a program that generates 500 random integers from 1 to n, for example, the first integer will be 1 the second will be 1 or 2, the fifth between 1 and 5, and so on.\n",
    "2. The program should write each integer to a file \n",
    "3. Once all integers are written close the file\n",
    "\n",
    "##### Part 2\n",
    "1. Open and read the file into a list\n",
    "2. Create a line plot of the data"
   ]
  },
  {
   "cell_type": "code",
   "execution_count": 58,
   "id": "60a910bb",
   "metadata": {},
   "outputs": [],
   "source": [
    "# part 1\n",
    "\n",
    "file = open('files/numbers.txt', 'w')\n",
    "\n",
    "for integer in range(1,500):\n",
    "    file.write(str(random.randint(1, integer)) + \"\\n\")\n",
    "file.close()\n",
    "\n"
   ]
  },
  {
   "cell_type": "code",
   "execution_count": null,
   "id": "d6b4180c",
   "metadata": {},
   "outputs": [],
   "source": [
    "# part 2"
   ]
  },
  {
   "cell_type": "code",
   "execution_count": 60,
   "id": "adb6aa11",
   "metadata": {},
   "outputs": [
    {
     "name": "stdout",
     "output_type": "stream",
     "text": [
      "[1, 2, 3, 1, 2]\n"
     ]
    },
    {
     "data": {
      "image/png": "[encoded data removed]",
      "text/plain": [
       "<Figure size 640x480 with 1 Axes>"
      ]
     },
     "metadata": {},
     "output_type": "display_data"
    }
   ],
   "source": [
    "import matplotlib.pyplot as plt\n",
    "file = open('data/numbers.txt', 'r')\n",
    "data = []\n",
    "for integer in file.readlines():\n",
    "    data.append(int(integer.strip()))\n",
    "print(data[:5])\n",
    "\n",
    "file.close()\n",
    "plt.plot(data);\n"
   ]
  },
  {
   "cell_type": "code",
   "execution_count": 66,
   "id": "6745da79",
   "metadata": {},
   "outputs": [
    {
     "data": {
      "text/plain": [
       "[1, 2, 3, 1, 2, 3, 4, 8, 2, 2]"
      ]
     },
     "execution_count": 66,
     "metadata": {},
     "output_type": "execute_result"
    }
   ],
   "source": [
    "data[:10]"
   ]
  },
  {
   "cell_type": "code",
   "execution_count": null,
   "id": "21140445",
   "metadata": {},
   "outputs": [],
   "source": []
  },
  {
   "cell_type": "code",
   "execution_count": null,
   "id": "3d546600",
   "metadata": {},
   "outputs": [],
   "source": []
  }
 ],
 "metadata": {
  "kernelspec": {
   "display_name": "Python 3 (ipykernel)",
   "language": "python",
   "name": "python3"
  },
  "language_info": {
   "codemirror_mode": {
    "name": "ipython",
    "version": 3
   },
   "file_extension": ".py",
   "mimetype": "text/x-python",
   "name": "python",
   "nbconvert_exporter": "python",
   "pygments_lexer": "ipython3",
   "version": "3.11.3"
  }
 },
 "nbformat": 4,
 "nbformat_minor": 5
}
